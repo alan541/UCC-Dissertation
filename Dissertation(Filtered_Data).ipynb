{
  "nbformat": 4,
  "nbformat_minor": 0,
  "metadata": {
    "colab": {
      "name": "Dissertation(Filtered_Data).ipynb",
      "provenance": [],
      "collapsed_sections": [],
      "authorship_tag": "ABX9TyOKDj+FSs9RNVRbcdc62xoC",
      "include_colab_link": true
    },
    "kernelspec": {
      "name": "python3",
      "display_name": "Python 3"
    }
  },
  "cells": [
    {
      "cell_type": "markdown",
      "metadata": {
        "id": "view-in-github",
        "colab_type": "text"
      },
      "source": [
        "<a href=\"https://colab.research.google.com/github/alan541/UCC-Dissertation/blob/master/Dissertation(Filtered_Data).ipynb\" target=\"_parent\"><img src=\"https://colab.research.google.com/assets/colab-badge.svg\" alt=\"Open In Colab\"/></a>"
      ]
    },
    {
      "cell_type": "code",
      "metadata": {
        "id": "ZZiQVsHQz6eS",
        "colab_type": "code",
        "colab": {
          "base_uri": "https://localhost:8080/",
          "height": 34
        },
        "outputId": "a60a926d-ac7d-4d60-beb9-09d83d1dc558"
      },
      "source": [
        "import pandas as pd\n",
        "import os\n",
        "from keras.models import Sequential\n",
        "from keras.layers import Dense\n",
        "from keras.wrappers.scikit_learn import KerasClassifier\n",
        "from keras.utils import np_utils\n",
        "from sklearn.model_selection import cross_val_score\n",
        "from sklearn.model_selection import KFold\n",
        "from sklearn.preprocessing import LabelEncoder\n",
        "from sklearn.pipeline import Pipeline\n",
        "import tensorflow as tf\n",
        "from tensorflow import keras\n"
      ],
      "execution_count": null,
      "outputs": [
        {
          "output_type": "stream",
          "text": [
            "Using TensorFlow backend.\n"
          ],
          "name": "stderr"
        }
      ]
    },
    {
      "cell_type": "code",
      "metadata": {
        "id": "WF_IoQUG0EmF",
        "colab_type": "code",
        "colab": {
          "resources": {
            "http://localhost:8080/nbextensions/google.colab/files.js": {
              "data": "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",
              "ok": true,
              "headers": [
                [
                  "content-type",
                  "application/javascript"
                ]
              ],
              "status": 200,
              "status_text": ""
            }
          },
          "base_uri": "https://localhost:8080/",
          "height": 73
        },
        "outputId": "619d6071-8b9b-4963-b556-148c01c07b06"
      },
      "source": [
        "from google.colab import files\n",
        "uploaded = files.upload()\n"
      ],
      "execution_count": null,
      "outputs": [
        {
          "output_type": "display_data",
          "data": {
            "text/html": [
              "\n",
              "     <input type=\"file\" id=\"files-f283f124-b648-451d-8163-393f2bc15c8a\" name=\"files[]\" multiple disabled\n",
              "        style=\"border:none\" />\n",
              "     <output id=\"result-f283f124-b648-451d-8163-393f2bc15c8a\">\n",
              "      Upload widget is only available when the cell has been executed in the\n",
              "      current browser session. Please rerun this cell to enable.\n",
              "      </output>\n",
              "      <script src=\"/nbextensions/google.colab/files.js\"></script> "
            ],
            "text/plain": [
              "<IPython.core.display.HTML object>"
            ]
          },
          "metadata": {
            "tags": []
          }
        },
        {
          "output_type": "stream",
          "text": [
            "Saving DLmtr.csv to DLmtr.csv\n"
          ],
          "name": "stdout"
        }
      ]
    },
    {
      "cell_type": "code",
      "metadata": {
        "id": "hhGXpvWOCssI",
        "colab_type": "code",
        "colab": {}
      },
      "source": [
        "import io\n",
        "df1 = pd.read_csv(io.BytesIO(uploaded['DLmtr.csv']))\n"
      ],
      "execution_count": null,
      "outputs": []
    },
    {
      "cell_type": "code",
      "metadata": {
        "id": "AiB-Xwbs_WXS",
        "colab_type": "code",
        "colab": {
          "resources": {
            "http://localhost:8080/nbextensions/google.colab/files.js": {
              "data": "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",
              "ok": true,
              "headers": [
                [
                  "content-type",
                  "application/javascript"
                ]
              ],
              "status": 200,
              "status_text": ""
            }
          },
          "base_uri": "https://localhost:8080/",
          "height": 73
        },
        "outputId": "38614bef-c798-4f20-8e49-bee24f31fb74"
      },
      "source": [
        "uploaded = files.upload()"
      ],
      "execution_count": null,
      "outputs": [
        {
          "output_type": "display_data",
          "data": {
            "text/html": [
              "\n",
              "     <input type=\"file\" id=\"files-2b752df3-d137-4dcb-9c01-49ff79d7809c\" name=\"files[]\" multiple disabled\n",
              "        style=\"border:none\" />\n",
              "     <output id=\"result-2b752df3-d137-4dcb-9c01-49ff79d7809c\">\n",
              "      Upload widget is only available when the cell has been executed in the\n",
              "      current browser session. Please rerun this cell to enable.\n",
              "      </output>\n",
              "      <script src=\"/nbextensions/google.colab/files.js\"></script> "
            ],
            "text/plain": [
              "<IPython.core.display.HTML object>"
            ]
          },
          "metadata": {
            "tags": []
          }
        },
        {
          "output_type": "stream",
          "text": [
            "Saving DLmte.csv to DLmte (1).csv\n"
          ],
          "name": "stdout"
        }
      ]
    },
    {
      "cell_type": "code",
      "metadata": {
        "id": "z9X-UDDH_W9n",
        "colab_type": "code",
        "colab": {}
      },
      "source": [
        "df2 = pd.read_csv(io.BytesIO(uploaded['DLmte.csv']))"
      ],
      "execution_count": null,
      "outputs": []
    },
    {
      "cell_type": "code",
      "metadata": {
        "id": "WqbUfrv3AawM",
        "colab_type": "code",
        "colab": {
          "base_uri": "https://localhost:8080/",
          "height": 235
        },
        "outputId": "8137f320-48cd-453d-f45d-f0a7aa4b58ef"
      },
      "source": [
        "dataset1 = df1.values\n",
        "train_data = dataset1[:,0:41].astype(float)\n",
        "train_labels = dataset1[:,41]\n",
        "print(train_data)"
      ],
      "execution_count": null,
      "outputs": [
        {
          "output_type": "stream",
          "text": [
            "[[ 0.          1.          0.         ...  0.50576184  0.48992248\n",
            "   1.        ]\n",
            " [ 0.          1.          0.         ...  0.44261093  0.46931736\n",
            "  -3.        ]\n",
            " [ 0.          1.          0.         ...  0.4622871   0.52888889\n",
            "  -2.        ]\n",
            " ...\n",
            " [ 0.          1.          0.         ...  0.51104101  0.55273133\n",
            "  16.        ]\n",
            " [ 1.          1.          0.         ...  0.44198895  0.48235294\n",
            "  -5.        ]\n",
            " [ 0.          1.          0.         ...  0.51376147  0.58695652\n",
            "  10.        ]]\n"
          ],
          "name": "stdout"
        }
      ]
    },
    {
      "cell_type": "code",
      "metadata": {
        "id": "TWQdh-CoMPsL",
        "colab_type": "code",
        "colab": {
          "base_uri": "https://localhost:8080/",
          "height": 336
        },
        "outputId": "7cebb5bb-4708-4f0a-e0fa-6e10a1f3c13b"
      },
      "source": [
        "dataset2 = df2.values\n",
        "test_data = dataset2[:,0:41].astype(float)\n",
        "test_labels = dataset2[:,41]\n",
        "print(test_labels)\n"
      ],
      "execution_count": null,
      "outputs": [
        {
          "output_type": "stream",
          "text": [
            "[0. 1. 1. 0. 0. 0. 0. 0. 1. 0. 0. 0. 0. 0. 1. 0. 0. 1. 0. 1. 1. 0. 0. 0.\n",
            " 1. 1. 1. 1. 1. 0. 0. 1. 0. 0. 0. 0. 1. 1. 1. 1. 1. 1. 1. 0. 1. 0. 0. 0.\n",
            " 0. 0. 1. 1. 0. 1. 0. 1. 0. 1. 1. 1. 1. 1. 0. 1. 1. 1. 0. 0. 0. 0. 1. 1.\n",
            " 0. 1. 0. 1. 1. 0. 0. 1. 1. 0. 1. 1. 1. 1. 0. 0. 0. 1. 0. 0. 1. 0. 1. 1.\n",
            " 0. 0. 0. 0. 0. 0. 0. 0. 0. 0. 0. 1. 0. 1. 1. 0. 1. 1. 0. 0. 0. 1. 1. 1.\n",
            " 0. 1. 1. 1. 0. 1. 0. 0. 1. 1. 1. 1. 1. 0. 1. 0. 0. 1. 1. 1. 0. 0. 1. 1.\n",
            " 1. 1. 1. 1. 1. 0. 0. 0. 0. 0. 0. 1. 1. 1. 1. 1. 1. 0. 0. 0. 0. 1. 1. 1.\n",
            " 1. 1. 0. 0. 1. 0. 1. 0. 0. 1. 0. 0. 0. 0. 1. 0. 1. 1. 0. 1. 0. 0. 1. 0.\n",
            " 1. 1. 0. 1. 1. 0. 1. 1. 0. 1. 0. 0. 1. 0. 1. 1. 1. 1. 0. 0. 0. 0. 0. 1.\n",
            " 1. 0. 0. 1. 0. 0. 0. 0. 0. 0. 1. 1. 1. 1. 1. 0. 1. 1. 1. 1. 0. 0. 0. 1.\n",
            " 1. 1. 0. 1. 1. 1. 0. 0. 1. 0. 1. 0. 0. 1. 1. 1. 0. 0. 1. 0. 1. 0. 1. 1.\n",
            " 1. 1. 1. 0. 1. 0. 0. 1. 0. 0. 1. 1. 1. 0. 0. 1. 1. 0. 0. 0. 1. 0. 1. 0.\n",
            " 1. 1. 0. 0. 1. 1. 1. 1. 0. 1. 1. 0. 0. 0. 1. 1. 0. 1. 1. 0. 1. 0. 1. 0.\n",
            " 1. 0. 0. 1. 0. 0. 1. 1. 0. 1. 0. 1. 1. 0. 1. 1. 0. 1. 1. 1. 1. 1. 0. 1.\n",
            " 0. 1. 0. 0. 0. 1. 0. 0. 1. 1. 1. 0. 1. 0. 0. 0. 0. 1. 0. 1. 0. 1. 0. 0.\n",
            " 1. 0. 0. 0. 1. 1. 0. 0. 1. 0. 1. 0. 1. 0. 0. 1. 0. 0. 1. 1. 0. 0. 0. 0.\n",
            " 0. 1. 0. 0. 1. 1. 1. 0. 0. 1. 0. 0. 0. 1. 0. 0. 1. 1. 0. 1. 1. 0. 0. 1.\n",
            " 1. 1. 1. 0. 0. 1. 0. 1. 1. 0. 0. 1. 1. 1. 1. 1. 0. 0. 0. 1. 1. 1. 0. 1.\n",
            " 0. 1. 0. 1. 1. 1.]\n"
          ],
          "name": "stdout"
        }
      ]
    },
    {
      "cell_type": "code",
      "metadata": {
        "id": "ChKuBAfNPHjR",
        "colab_type": "code",
        "colab": {}
      },
      "source": [
        "model = keras.Sequential([\n",
        "    keras.layers.Dense(128, input_dim = 41, activation='sigmoid'),\n",
        "    keras.layers.Dense(64, activation= 'sigmoid'),\n",
        "    keras.layers.Dense(2, activation = 'softmax')\n",
        "])"
      ],
      "execution_count": null,
      "outputs": []
    },
    {
      "cell_type": "code",
      "metadata": {
        "id": "PmlI18SwQ0CL",
        "colab_type": "code",
        "colab": {}
      },
      "source": [
        "model.compile(optimizer='adam',\n",
        "              loss=tf.keras.losses.SparseCategoricalCrossentropy(from_logits=True),\n",
        "              metrics=['accuracy'])"
      ],
      "execution_count": null,
      "outputs": []
    },
    {
      "cell_type": "code",
      "metadata": {
        "id": "s0ODk126RQLw",
        "colab_type": "code",
        "colab": {
          "base_uri": "https://localhost:8080/",
          "height": 1000
        },
        "outputId": "08c234b7-cb93-4dea-c2a4-5eeec33b9972"
      },
      "source": [
        "model.fit(train_data, train_labels, epochs=100, batch_size= 50)\n"
      ],
      "execution_count": null,
      "outputs": [
        {
          "output_type": "stream",
          "text": [
            "Epoch 1/100\n",
            "21/21 [==============================] - 0s 2ms/step - loss: 0.6139 - accuracy: 0.6913\n",
            "Epoch 2/100\n",
            "21/21 [==============================] - 0s 1ms/step - loss: 0.6152 - accuracy: 0.6833\n",
            "Epoch 3/100\n",
            "21/21 [==============================] - 0s 2ms/step - loss: 0.6090 - accuracy: 0.6883\n",
            "Epoch 4/100\n",
            "21/21 [==============================] - 0s 1ms/step - loss: 0.6194 - accuracy: 0.6893\n",
            "Epoch 5/100\n",
            "21/21 [==============================] - 0s 2ms/step - loss: 0.6119 - accuracy: 0.6803\n",
            "Epoch 6/100\n",
            "21/21 [==============================] - 0s 1ms/step - loss: 0.6166 - accuracy: 0.6783\n",
            "Epoch 7/100\n",
            "21/21 [==============================] - 0s 1ms/step - loss: 0.6087 - accuracy: 0.6923\n",
            "Epoch 8/100\n",
            "21/21 [==============================] - 0s 1ms/step - loss: 0.6073 - accuracy: 0.6953\n",
            "Epoch 9/100\n",
            "21/21 [==============================] - 0s 1ms/step - loss: 0.6066 - accuracy: 0.6953\n",
            "Epoch 10/100\n",
            "21/21 [==============================] - 0s 1ms/step - loss: 0.6247 - accuracy: 0.6793\n",
            "Epoch 11/100\n",
            "21/21 [==============================] - 0s 2ms/step - loss: 0.6255 - accuracy: 0.6753\n",
            "Epoch 12/100\n",
            "21/21 [==============================] - 0s 1ms/step - loss: 0.6151 - accuracy: 0.6863\n",
            "Epoch 13/100\n",
            "21/21 [==============================] - 0s 1ms/step - loss: 0.6173 - accuracy: 0.6973\n",
            "Epoch 14/100\n",
            "21/21 [==============================] - 0s 1ms/step - loss: 0.6154 - accuracy: 0.6913\n",
            "Epoch 15/100\n",
            "21/21 [==============================] - 0s 1ms/step - loss: 0.6163 - accuracy: 0.6823\n",
            "Epoch 16/100\n",
            "21/21 [==============================] - 0s 1ms/step - loss: 0.6184 - accuracy: 0.6883\n",
            "Epoch 17/100\n",
            "21/21 [==============================] - 0s 2ms/step - loss: 0.6152 - accuracy: 0.6873\n",
            "Epoch 18/100\n",
            "21/21 [==============================] - 0s 2ms/step - loss: 0.6154 - accuracy: 0.6913\n",
            "Epoch 19/100\n",
            "21/21 [==============================] - 0s 1ms/step - loss: 0.6131 - accuracy: 0.6943\n",
            "Epoch 20/100\n",
            "21/21 [==============================] - 0s 1ms/step - loss: 0.6278 - accuracy: 0.6793\n",
            "Epoch 21/100\n",
            "21/21 [==============================] - 0s 1ms/step - loss: 0.6207 - accuracy: 0.6793\n",
            "Epoch 22/100\n",
            "21/21 [==============================] - 0s 1ms/step - loss: 0.6134 - accuracy: 0.6893\n",
            "Epoch 23/100\n",
            "21/21 [==============================] - 0s 1ms/step - loss: 0.6165 - accuracy: 0.6913\n",
            "Epoch 24/100\n",
            "21/21 [==============================] - 0s 1ms/step - loss: 0.6201 - accuracy: 0.6843\n",
            "Epoch 25/100\n",
            "21/21 [==============================] - 0s 1ms/step - loss: 0.6150 - accuracy: 0.6863\n",
            "Epoch 26/100\n",
            "21/21 [==============================] - 0s 2ms/step - loss: 0.6175 - accuracy: 0.6863\n",
            "Epoch 27/100\n",
            "21/21 [==============================] - 0s 2ms/step - loss: 0.6199 - accuracy: 0.6863\n",
            "Epoch 28/100\n",
            "21/21 [==============================] - 0s 1ms/step - loss: 0.6196 - accuracy: 0.6893\n",
            "Epoch 29/100\n",
            "21/21 [==============================] - 0s 1ms/step - loss: 0.6170 - accuracy: 0.6923\n",
            "Epoch 30/100\n",
            "21/21 [==============================] - 0s 2ms/step - loss: 0.6158 - accuracy: 0.6903\n",
            "Epoch 31/100\n",
            "21/21 [==============================] - 0s 2ms/step - loss: 0.6143 - accuracy: 0.6963\n",
            "Epoch 32/100\n",
            "21/21 [==============================] - 0s 2ms/step - loss: 0.6138 - accuracy: 0.6923\n",
            "Epoch 33/100\n",
            "21/21 [==============================] - 0s 1ms/step - loss: 0.6128 - accuracy: 0.6923\n",
            "Epoch 34/100\n",
            "21/21 [==============================] - 0s 2ms/step - loss: 0.6168 - accuracy: 0.6843\n",
            "Epoch 35/100\n",
            "21/21 [==============================] - 0s 2ms/step - loss: 0.6141 - accuracy: 0.6943\n",
            "Epoch 36/100\n",
            "21/21 [==============================] - 0s 2ms/step - loss: 0.6153 - accuracy: 0.6893\n",
            "Epoch 37/100\n",
            "21/21 [==============================] - 0s 2ms/step - loss: 0.6125 - accuracy: 0.6913\n",
            "Epoch 38/100\n",
            "21/21 [==============================] - 0s 1ms/step - loss: 0.6119 - accuracy: 0.6923\n",
            "Epoch 39/100\n",
            "21/21 [==============================] - 0s 1ms/step - loss: 0.6117 - accuracy: 0.6933\n",
            "Epoch 40/100\n",
            "21/21 [==============================] - 0s 1ms/step - loss: 0.6098 - accuracy: 0.6943\n",
            "Epoch 41/100\n",
            "21/21 [==============================] - 0s 2ms/step - loss: 0.6122 - accuracy: 0.6923\n",
            "Epoch 42/100\n",
            "21/21 [==============================] - 0s 2ms/step - loss: 0.6101 - accuracy: 0.6903\n",
            "Epoch 43/100\n",
            "21/21 [==============================] - 0s 2ms/step - loss: 0.6083 - accuracy: 0.6963\n",
            "Epoch 44/100\n",
            "21/21 [==============================] - 0s 2ms/step - loss: 0.6093 - accuracy: 0.6913\n",
            "Epoch 45/100\n",
            "21/21 [==============================] - 0s 2ms/step - loss: 0.6064 - accuracy: 0.6993\n",
            "Epoch 46/100\n",
            "21/21 [==============================] - 0s 2ms/step - loss: 0.6069 - accuracy: 0.7013\n",
            "Epoch 47/100\n",
            "21/21 [==============================] - 0s 2ms/step - loss: 0.6051 - accuracy: 0.7023\n",
            "Epoch 48/100\n",
            "21/21 [==============================] - 0s 2ms/step - loss: 0.6063 - accuracy: 0.7003\n",
            "Epoch 49/100\n",
            "21/21 [==============================] - 0s 2ms/step - loss: 0.6065 - accuracy: 0.6963\n",
            "Epoch 50/100\n",
            "21/21 [==============================] - 0s 2ms/step - loss: 0.6068 - accuracy: 0.6973\n",
            "Epoch 51/100\n",
            "21/21 [==============================] - 0s 2ms/step - loss: 0.6041 - accuracy: 0.7003\n",
            "Epoch 52/100\n",
            "21/21 [==============================] - 0s 2ms/step - loss: 0.6079 - accuracy: 0.6933\n",
            "Epoch 53/100\n",
            "21/21 [==============================] - 0s 2ms/step - loss: 0.6125 - accuracy: 0.6923\n",
            "Epoch 54/100\n",
            "21/21 [==============================] - 0s 2ms/step - loss: 0.6075 - accuracy: 0.6923\n",
            "Epoch 55/100\n",
            "21/21 [==============================] - 0s 2ms/step - loss: 0.6044 - accuracy: 0.7033\n",
            "Epoch 56/100\n",
            "21/21 [==============================] - 0s 2ms/step - loss: 0.6069 - accuracy: 0.6973\n",
            "Epoch 57/100\n",
            "21/21 [==============================] - 0s 2ms/step - loss: 0.6051 - accuracy: 0.7073\n",
            "Epoch 58/100\n",
            "21/21 [==============================] - 0s 2ms/step - loss: 0.6156 - accuracy: 0.6863\n",
            "Epoch 59/100\n",
            "21/21 [==============================] - 0s 2ms/step - loss: 0.6102 - accuracy: 0.6993\n",
            "Epoch 60/100\n",
            "21/21 [==============================] - 0s 2ms/step - loss: 0.6079 - accuracy: 0.6993\n",
            "Epoch 61/100\n",
            "21/21 [==============================] - 0s 2ms/step - loss: 0.6096 - accuracy: 0.6913\n",
            "Epoch 62/100\n",
            "21/21 [==============================] - 0s 2ms/step - loss: 0.6202 - accuracy: 0.6813\n",
            "Epoch 63/100\n",
            "21/21 [==============================] - 0s 2ms/step - loss: 0.6050 - accuracy: 0.6933\n",
            "Epoch 64/100\n",
            "21/21 [==============================] - 0s 2ms/step - loss: 0.6111 - accuracy: 0.6933\n",
            "Epoch 65/100\n",
            "21/21 [==============================] - 0s 2ms/step - loss: 0.6062 - accuracy: 0.7003\n",
            "Epoch 66/100\n",
            "21/21 [==============================] - 0s 2ms/step - loss: 0.6124 - accuracy: 0.6893\n",
            "Epoch 67/100\n",
            "21/21 [==============================] - 0s 3ms/step - loss: 0.6077 - accuracy: 0.7023\n",
            "Epoch 68/100\n",
            "21/21 [==============================] - 0s 2ms/step - loss: 0.6063 - accuracy: 0.6973\n",
            "Epoch 69/100\n",
            "21/21 [==============================] - 0s 2ms/step - loss: 0.6059 - accuracy: 0.6933\n",
            "Epoch 70/100\n",
            "21/21 [==============================] - 0s 2ms/step - loss: 0.6038 - accuracy: 0.7013\n",
            "Epoch 71/100\n",
            "21/21 [==============================] - 0s 2ms/step - loss: 0.6000 - accuracy: 0.7103\n",
            "Epoch 72/100\n",
            "21/21 [==============================] - 0s 2ms/step - loss: 0.6002 - accuracy: 0.7073\n",
            "Epoch 73/100\n",
            "21/21 [==============================] - 0s 1ms/step - loss: 0.5992 - accuracy: 0.7093\n",
            "Epoch 74/100\n",
            "21/21 [==============================] - 0s 2ms/step - loss: 0.5982 - accuracy: 0.7063\n",
            "Epoch 75/100\n",
            "21/21 [==============================] - 0s 2ms/step - loss: 0.5995 - accuracy: 0.7103\n",
            "Epoch 76/100\n",
            "21/21 [==============================] - 0s 2ms/step - loss: 0.6029 - accuracy: 0.6993\n",
            "Epoch 77/100\n",
            "21/21 [==============================] - 0s 2ms/step - loss: 0.5992 - accuracy: 0.7063\n",
            "Epoch 78/100\n",
            "21/21 [==============================] - 0s 2ms/step - loss: 0.5967 - accuracy: 0.7103\n",
            "Epoch 79/100\n",
            "21/21 [==============================] - 0s 2ms/step - loss: 0.6087 - accuracy: 0.6933\n",
            "Epoch 80/100\n",
            "21/21 [==============================] - 0s 1ms/step - loss: 0.6038 - accuracy: 0.7063\n",
            "Epoch 81/100\n",
            "21/21 [==============================] - 0s 2ms/step - loss: 0.5999 - accuracy: 0.7073\n",
            "Epoch 82/100\n",
            "21/21 [==============================] - 0s 2ms/step - loss: 0.6034 - accuracy: 0.6953\n",
            "Epoch 83/100\n",
            "21/21 [==============================] - 0s 2ms/step - loss: 0.5951 - accuracy: 0.7123\n",
            "Epoch 84/100\n",
            "21/21 [==============================] - 0s 2ms/step - loss: 0.5948 - accuracy: 0.7033\n",
            "Epoch 85/100\n",
            "21/21 [==============================] - 0s 2ms/step - loss: 0.5932 - accuracy: 0.7173\n",
            "Epoch 86/100\n",
            "21/21 [==============================] - 0s 2ms/step - loss: 0.5940 - accuracy: 0.7093\n",
            "Epoch 87/100\n",
            "21/21 [==============================] - 0s 2ms/step - loss: 0.6119 - accuracy: 0.6803\n",
            "Epoch 88/100\n",
            "21/21 [==============================] - 0s 2ms/step - loss: 0.6022 - accuracy: 0.6993\n",
            "Epoch 89/100\n",
            "21/21 [==============================] - 0s 2ms/step - loss: 0.6089 - accuracy: 0.7003\n",
            "Epoch 90/100\n",
            "21/21 [==============================] - 0s 2ms/step - loss: 0.6033 - accuracy: 0.7003\n",
            "Epoch 91/100\n",
            "21/21 [==============================] - 0s 2ms/step - loss: 0.5994 - accuracy: 0.6893\n",
            "Epoch 92/100\n",
            "21/21 [==============================] - 0s 2ms/step - loss: 0.6067 - accuracy: 0.7023\n",
            "Epoch 93/100\n",
            "21/21 [==============================] - 0s 1ms/step - loss: 0.6010 - accuracy: 0.7053\n",
            "Epoch 94/100\n",
            "21/21 [==============================] - 0s 2ms/step - loss: 0.6018 - accuracy: 0.7023\n",
            "Epoch 95/100\n",
            "21/21 [==============================] - 0s 2ms/step - loss: 0.5979 - accuracy: 0.7093\n",
            "Epoch 96/100\n",
            "21/21 [==============================] - 0s 2ms/step - loss: 0.6009 - accuracy: 0.7013\n",
            "Epoch 97/100\n",
            "21/21 [==============================] - 0s 2ms/step - loss: 0.6028 - accuracy: 0.7043\n",
            "Epoch 98/100\n",
            "21/21 [==============================] - 0s 1ms/step - loss: 0.5974 - accuracy: 0.7073\n",
            "Epoch 99/100\n",
            "21/21 [==============================] - 0s 1ms/step - loss: 0.5978 - accuracy: 0.7073\n",
            "Epoch 100/100\n",
            "21/21 [==============================] - 0s 2ms/step - loss: 0.6061 - accuracy: 0.6913\n"
          ],
          "name": "stdout"
        },
        {
          "output_type": "execute_result",
          "data": {
            "text/plain": [
              "<tensorflow.python.keras.callbacks.History at 0x7f543f8a7390>"
            ]
          },
          "metadata": {
            "tags": []
          },
          "execution_count": 136
        }
      ]
    },
    {
      "cell_type": "code",
      "metadata": {
        "id": "0EvzVem5FrHG",
        "colab_type": "code",
        "colab": {
          "base_uri": "https://localhost:8080/",
          "height": 67
        },
        "outputId": "fb664b04-2451-4f40-a580-ddb027368afd"
      },
      "source": [
        "test_loss, test_acc = model.evaluate(test_data,  test_labels, verbose=2)\n",
        "\n",
        "print('\\nTest accuracy:', test_acc)"
      ],
      "execution_count": null,
      "outputs": [
        {
          "output_type": "stream",
          "text": [
            "14/14 - 0s - loss: 0.6587 - accuracy: 0.6438\n",
            "\n",
            "Test accuracy: 0.6438356041908264\n"
          ],
          "name": "stdout"
        }
      ]
    },
    {
      "cell_type": "code",
      "metadata": {
        "id": "jv9djFiZGRup",
        "colab_type": "code",
        "colab": {}
      },
      "source": [
        "probability_model = tf.keras.Sequential([model, \n",
        "                                         tf.keras.layers.Softmax()])"
      ],
      "execution_count": null,
      "outputs": []
    },
    {
      "cell_type": "code",
      "metadata": {
        "id": "iC-qBI-eG0et",
        "colab_type": "code",
        "colab": {}
      },
      "source": [
        "predictions = probability_model.predict(test_data)"
      ],
      "execution_count": null,
      "outputs": []
    },
    {
      "cell_type": "code",
      "metadata": {
        "id": "0EcAtOOe4hDW",
        "colab_type": "code",
        "colab": {
          "resources": {
            "http://localhost:8080/nbextensions/google.colab/files.js": {
              "data": "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",
              "ok": true,
              "headers": [
                [
                  "content-type",
                  "application/javascript"
                ]
              ],
              "status": 200,
              "status_text": ""
            }
          },
          "base_uri": "https://localhost:8080/",
          "height": 73
        },
        "outputId": "f33afda5-e6d1-4d66-f197-beddea81bd89"
      },
      "source": [
        "from google.colab import files\n",
        "uploaded = files.upload()\n"
      ],
      "execution_count": null,
      "outputs": [
        {
          "output_type": "display_data",
          "data": {
            "text/html": [
              "\n",
              "     <input type=\"file\" id=\"files-eb551048-2089-445c-8e7f-f36af055ba4c\" name=\"files[]\" multiple disabled\n",
              "        style=\"border:none\" />\n",
              "     <output id=\"result-eb551048-2089-445c-8e7f-f36af055ba4c\">\n",
              "      Upload widget is only available when the cell has been executed in the\n",
              "      current browser session. Please rerun this cell to enable.\n",
              "      </output>\n",
              "      <script src=\"/nbextensions/google.colab/files.js\"></script> "
            ],
            "text/plain": [
              "<IPython.core.display.HTML object>"
            ]
          },
          "metadata": {
            "tags": []
          }
        },
        {
          "output_type": "stream",
          "text": [
            "Saving minnotest.csv to minnotest.csv\n"
          ],
          "name": "stdout"
        }
      ]
    },
    {
      "cell_type": "code",
      "metadata": {
        "id": "OAdqFAX148YR",
        "colab_type": "code",
        "colab": {}
      },
      "source": [
        "odds = pd.read_csv(io.BytesIO(uploaded['minnotest.csv']))\n"
      ],
      "execution_count": null,
      "outputs": []
    },
    {
      "cell_type": "code",
      "metadata": {
        "id": "OLXrUJWh5zyf",
        "colab_type": "code",
        "colab": {}
      },
      "source": [
        "datasetodds = odds.values\n"
      ],
      "execution_count": null,
      "outputs": []
    },
    {
      "cell_type": "code",
      "metadata": {
        "id": "ykdxqP6y8nyW",
        "colab_type": "code",
        "colab": {
          "base_uri": "https://localhost:8080/",
          "height": 34
        },
        "outputId": "9313d967-2407-4ded-d101-8e1b010e84ca"
      },
      "source": [
        "# bet on favourite strategy\n",
        "bet = 0\n",
        "win = 0\n",
        "\n",
        "for i in range(438):\n",
        "  if test_labels[i] == 0:\n",
        "    if predictions[i,0] < 0.50 and datasetodds[i,141] > 0:\n",
        "      win = win + datasetodds[i,141] \n",
        "    if datasetodds[i,141] >0:\n",
        "      bet = bet + 1\n",
        "  else:\n",
        "    if predictions[i,0] >= 0.50 and datasetodds[i,141] > 0:\n",
        "      win = win + datasetodds[i,141]\n",
        "    if datasetodds[i,141] >0:\n",
        "      bet = bet + 1\n",
        "\n",
        "\n",
        "win = win - bet\n",
        "\n",
        "ret = win/bet\n",
        "\n",
        "ret\n"
      ],
      "execution_count": null,
      "outputs": [
        {
          "output_type": "execute_result",
          "data": {
            "text/plain": [
              "-0.03305936073059352"
            ]
          },
          "metadata": {
            "tags": []
          },
          "execution_count": 149
        }
      ]
    },
    {
      "cell_type": "code",
      "metadata": {
        "id": "HlNzQaUfIrNK",
        "colab_type": "code",
        "colab": {
          "base_uri": "https://localhost:8080/",
          "height": 50
        },
        "outputId": "361e46fb-f955-4b73-c5e6-c61f3987ab7a"
      },
      "source": [
        "# high probs only betting\n",
        "bet = 0\n",
        "win = 0\n",
        "\n",
        "for i in range(438):\n",
        "  if test_labels[i] == 0:\n",
        "    if predictions[i,0] <= 0.30 and datasetodds[i,141] > 0:\n",
        "      win = win + datasetodds[i,141] \n",
        "      bet = bet + 1\n",
        "    if predictions[i,0] > 0.70 and datasetodds[i,141] >0:\n",
        "      bet = bet + 1\n",
        "  else:\n",
        "    if predictions[i,0] >= 0.70 and datasetodds[i,141] > 0:\n",
        "      win = win + datasetodds[i,141]\n",
        "      bet = bet + 1\n",
        "    if predictions[i,0] < 0.30 and datasetodds[i,141] >0:\n",
        "      bet = bet + 1\n",
        "\n",
        "\n",
        "win = win - bet\n",
        "\n",
        "ret = win/bet\n",
        "\n",
        "print(bet)\n",
        "\n",
        "print(ret)\n"
      ],
      "execution_count": null,
      "outputs": [
        {
          "output_type": "stream",
          "text": [
            "234\n",
            "0.009658119658119255\n"
          ],
          "name": "stdout"
        }
      ]
    },
    {
      "cell_type": "code",
      "metadata": {
        "colab_type": "code",
        "id": "9LYw-oKON9W9",
        "colab": {
          "base_uri": "https://localhost:8080/",
          "height": 34
        },
        "outputId": "35bf93fe-f8ad-47a8-d272-6ad905d1f896"
      },
      "source": [
        "# bet if expected positive return\n",
        "bet = 0\n",
        "win = 0\n",
        "\n",
        "for i in range(438):\n",
        "  if test_labels[i] == 0:\n",
        "    if predictions[i,0]*datasetodds[i,142] > 1:\n",
        "      bet = bet + 1\n",
        "    if (1-predictions[i,0])*datasetodds[i,141] >1:\n",
        "      bet = bet + 1\n",
        "      win = win + datasetodds[i,141] \n",
        "  else:\n",
        "    if predictions[i,0]*datasetodds[i,141] > 1:\n",
        "      bet = bet + 1\n",
        "      win = win + datasetodds[i,141] \n",
        "    if (1-predictions[i,0])*datasetodds[i,142] >1:\n",
        "      bet = bet + 1\n",
        "      \n",
        "\n",
        "\n",
        "win = win - bet\n",
        "\n",
        "ret = win/bet\n",
        "\n",
        "ret\n"
      ],
      "execution_count": null,
      "outputs": [
        {
          "output_type": "execute_result",
          "data": {
            "text/plain": [
              "-0.00386046511627926"
            ]
          },
          "metadata": {
            "tags": []
          },
          "execution_count": 151
        }
      ]
    },
    {
      "cell_type": "code",
      "metadata": {
        "id": "3B-SrHwbSnuA",
        "colab_type": "code",
        "colab": {
          "base_uri": "https://localhost:8080/",
          "height": 34
        },
        "outputId": "9d5bc385-52a5-41a7-8163-3e685ddc981f"
      },
      "source": [
        "# bet if model prob - bookie prob > .05\n",
        "bet = 0\n",
        "win = 0\n",
        "\n",
        "for i in range(438):\n",
        "  if datasetodds[i,142] > 1:\n",
        "    if test_labels[i] == 0:\n",
        "      if predictions[i,0] - (1/datasetodds[i,142]) >= 0.05:\n",
        "        bet = bet + 1\n",
        "      if ((1-predictions[i,0]) - (1/datasetodds[i,141])) >= 0.05:\n",
        "        bet = bet + 1\n",
        "        win = win + datasetodds[i,141] \n",
        "    else:\n",
        "      if predictions[i,0] - (1/datasetodds[i,141]) >= 0.05:\n",
        "        bet = bet + 1\n",
        "        win = win + datasetodds[i,141] \n",
        "      if ((1-predictions[i,0]) - (1/datasetodds[i,142])) >= 0.05:\n",
        "        bet = bet + 1\n",
        "      \n",
        "\n",
        "win = win - bet\n",
        "\n",
        "ret = win/bet\n",
        "\n",
        "ret\n"
      ],
      "execution_count": null,
      "outputs": [
        {
          "output_type": "execute_result",
          "data": {
            "text/plain": [
              "-0.005220588235294246"
            ]
          },
          "metadata": {
            "tags": []
          },
          "execution_count": 152
        }
      ]
    },
    {
      "cell_type": "code",
      "metadata": {
        "id": "9MOxBH61VrXO",
        "colab_type": "code",
        "colab": {
          "base_uri": "https://localhost:8080/",
          "height": 34
        },
        "outputId": "1c0c450b-ea57-4ee5-b472-a4008ad6e00e"
      },
      "source": [
        "# bet on favourite strategy with % of bank roll MM\n",
        "\n",
        "nb = 0\n",
        "BR = 438\n",
        "bet = 0\n",
        "win = 0\n",
        "\n",
        "for i in range(438):\n",
        "  stake = 0.01*BR\n",
        "  if test_labels[i] == 0:\n",
        "    if predictions[i,0] < 0.50 and datasetodds[i,141] > 0:\n",
        "      bet = bet + stake\n",
        "      win = win + (stake*datasetodds[i,141]) \n",
        "      BR = BR + ((stake*datasetodds[i,141]) - stake)\n",
        "      nb = nb + 1\n",
        "    if  predictions[i,0] > 0.50 and datasetodds[i,141] >0:\n",
        "      bet = bet + stake\n",
        "      BR = BR - stake\n",
        "      nb = nb + 1\n",
        "  else:\n",
        "    if predictions[i,0] > 0.50 and datasetodds[i,141] > 0:\n",
        "      bet = bet + stake\n",
        "      win = win + (stake*datasetodds[i,141]) \n",
        "      BR = BR + ((stake*datasetodds[i,141]) - stake)\n",
        "      nb = nb + 1\n",
        "    if  predictions[i,0] < 0.50 and datasetodds[i,141] >0:\n",
        "      bet = bet + stake\n",
        "      BR = BR - stake\n",
        "      nb = nb + 1\n",
        "\n",
        "    if BR <=0:\n",
        "      break \n",
        "\n",
        "\n",
        "win = win - bet\n",
        "\n",
        "ret = win/bet\n",
        "\n",
        "ret\n"
      ],
      "execution_count": null,
      "outputs": [
        {
          "output_type": "execute_result",
          "data": {
            "text/plain": [
              "-0.05026305076201783"
            ]
          },
          "metadata": {
            "tags": []
          },
          "execution_count": 153
        }
      ]
    },
    {
      "cell_type": "code",
      "metadata": {
        "id": "fgB-xpbpYJrk",
        "colab_type": "code",
        "colab": {
          "base_uri": "https://localhost:8080/",
          "height": 34
        },
        "outputId": "619ed15f-b555-47cf-ef61-823c57111b3a"
      },
      "source": [
        "# high probs only betting with % of BR MM\n",
        "bet = 0\n",
        "win = 0\n",
        "nb = 0\n",
        "BR =438\n",
        "\n",
        "for i in range(438):\n",
        "  stake = .01*BR\n",
        "  if test_labels[i] == 0:\n",
        "    if predictions[i,0] <= 0.30 and datasetodds[i,141] > 0:\n",
        "      bet = bet + stake\n",
        "      win = win + (stake*datasetodds[i,141])\n",
        "      BR = BR + ((stake*datasetodds[i,141]) - stake)\n",
        "      nb = nb + 1\n",
        "    if predictions[i,0] > 0.70 and datasetodds[i,141] >0:\n",
        "      bet = bet + stake\n",
        "      BR = BR - stake\n",
        "      nb = nb + 1\n",
        "  else:\n",
        "    if predictions[i,0] >= 0.70 and datasetodds[i,141] > 0:\n",
        "      bet = bet + stake\n",
        "      win = win + (stake*datasetodds[i,141])\n",
        "      BR = BR + ((stake*datasetodds[i,141]) - stake)\n",
        "      nb = nb + 1\n",
        "    if predictions[i,0] < 0.30 and datasetodds[i,141] >0:\n",
        "      bet = bet + stake\n",
        "      BR = BR - stake\n",
        "      nb = nb + 1\n",
        "  if BR <=0:\n",
        "      break \n",
        "\n",
        "win = win - bet\n",
        "\n",
        "ret = win/bet\n",
        "\n",
        "ret\n"
      ],
      "execution_count": null,
      "outputs": [
        {
          "output_type": "execute_result",
          "data": {
            "text/plain": [
              "-0.004574555437593553"
            ]
          },
          "metadata": {
            "tags": []
          },
          "execution_count": 154
        }
      ]
    },
    {
      "cell_type": "code",
      "metadata": {
        "id": "IqpU9WPLZOP4",
        "colab_type": "code",
        "colab": {
          "base_uri": "https://localhost:8080/",
          "height": 34
        },
        "outputId": "646df95b-e657-4fd7-8bd3-957d593930cc"
      },
      "source": [
        "# bet if expected positive return and % of BR MM\n",
        "bet = 0\n",
        "win = 0\n",
        "BR = 438\n",
        "nb = 0\n",
        "\n",
        "for i in range(438):\n",
        "  stake =.01*BR\n",
        "  if test_labels[i] == 0:\n",
        "    if predictions[i,0]*datasetodds[i,142] > 1:\n",
        "      bet = bet + stake\n",
        "      BR = BR - stake\n",
        "      nb = nb + 1\n",
        "    if (1-predictions[i,0])*datasetodds[i,141] >1:\n",
        "      bet = bet + stake\n",
        "      win = win + (stake*datasetodds[i,141])\n",
        "      BR = BR + ((stake*datasetodds[i,141]) - stake)\n",
        "      nb = nb + 1\n",
        "  else:\n",
        "    if predictions[i,0]*datasetodds[i,141] > 1:\n",
        "      win = win + (stake*datasetodds[i,141])\n",
        "      bet = bet + stake\n",
        "      BR = BR + ((stake*datasetodds[i,141]) - stake)\n",
        "      nb = nb + 1\n",
        "    if (1-predictions[i,0])*datasetodds[i,142] >1:\n",
        "      bet = bet + stake\n",
        "      BR = BR - stake\n",
        "      nb = nb + 1\n",
        "  if BR <=0:\n",
        "      break       \n",
        "\n",
        "\n",
        "win = win - bet\n",
        "\n",
        "ret = win/bet\n",
        "\n",
        "ret\n"
      ],
      "execution_count": null,
      "outputs": [
        {
          "output_type": "execute_result",
          "data": {
            "text/plain": [
              "-0.017368019182204486"
            ]
          },
          "metadata": {
            "tags": []
          },
          "execution_count": 155
        }
      ]
    },
    {
      "cell_type": "code",
      "metadata": {
        "id": "R7H1M4xibJnK",
        "colab_type": "code",
        "colab": {
          "base_uri": "https://localhost:8080/",
          "height": 34
        },
        "outputId": "f6e0972f-514a-40c0-95c0-5935668f3296"
      },
      "source": [
        "# bet if model prob - bookie prob > .05 and % of BR MM\n",
        "bet = 0\n",
        "win = 0\n",
        "nb = 0\n",
        "BR = 438\n",
        "\n",
        "for i in range(438):\n",
        "  if datasetodds[i,142] > 1:\n",
        "    if test_labels[i] == 0:\n",
        "      if predictions[i,0] - (1/datasetodds[i,142]) >= 0.05:\n",
        "        bet = bet + stake\n",
        "        BR = BR - stake\n",
        "        nb = nb + 1\n",
        "      if ((1-predictions[i,0]) - (1/datasetodds[i,141])) >= 0.05:\n",
        "        bet = bet + stake\n",
        "        win = win + (stake*datasetodds[i,141])\n",
        "        BR = BR + ((stake*datasetodds[i,141]) - stake)\n",
        "        nb = nb + 1\n",
        "    else:\n",
        "      if predictions[i,0] - (1/datasetodds[i,141]) >= 0.05:\n",
        "        win = win + (stake*datasetodds[i,141])\n",
        "        bet = bet + stake\n",
        "        BR = BR + ((stake*datasetodds[i,141]) - stake)\n",
        "        nb = nb + 1\n",
        "      if ((1-predictions[i,0]) - (1/datasetodds[i,142])) >= 0.05:\n",
        "        bet = bet + stake\n",
        "        BR = BR - stake\n",
        "        nb = nb + 1\n",
        "    if BR <=0:\n",
        "      break     \n",
        "\n",
        "win = win - bet\n",
        "\n",
        "ret = win/bet\n",
        "\n",
        "ret\n"
      ],
      "execution_count": null,
      "outputs": [
        {
          "output_type": "execute_result",
          "data": {
            "text/plain": [
              "-0.005220588235288885"
            ]
          },
          "metadata": {
            "tags": []
          },
          "execution_count": 157
        }
      ]
    },
    {
      "cell_type": "code",
      "metadata": {
        "id": "ZxiPcVJ8cOho",
        "colab_type": "code",
        "colab": {
          "base_uri": "https://localhost:8080/",
          "height": 34
        },
        "outputId": "824c4b81-4281-48fd-f8b6-c74fcb99cc97"
      },
      "source": [
        "# bet if expected positive return & KC MM \n",
        "bet = 0\n",
        "win = 0\n",
        "\n",
        "for i in range(438):\n",
        "  stake1 = ((predictions[i,0]*datasetodds[i,142])-1)/(datasetodds[i,142]-1)\n",
        "  stake3 = ((predictions[i,0]*datasetodds[i,141])-1)/(datasetodds[i,141]-1)\n",
        "  stake2 = (((1-predictions[i,0])*datasetodds[i,141])-1)/(datasetodds[i,141]-1)\n",
        "  stake4 = (((1-predictions[i,0])*datasetodds[i,142])-1)/(datasetodds[i,142]-1)\n",
        "  if test_labels[i] == 0:\n",
        "    if predictions[i,0]*datasetodds[i,142] > 1:\n",
        "      bet = bet + stake1\n",
        "    if (1-predictions[i,0])*datasetodds[i,141] >1:\n",
        "      bet = bet + stake2\n",
        "      win = win + (stake2*datasetodds[i,141]) \n",
        "  else:\n",
        "    if predictions[i,0]*datasetodds[i,141] > 1:\n",
        "      win = win + (stake3*datasetodds[i,141])\n",
        "      bet = bet + stake3\n",
        "    if (1-predictions[i,0])*datasetodds[i,142] >1:\n",
        "      bet = bet + stake4\n",
        "      \n",
        "\n",
        "\n",
        "win = win - bet\n",
        "\n",
        "ret = win/bet\n",
        "\n",
        "ret\n"
      ],
      "execution_count": null,
      "outputs": [
        {
          "output_type": "execute_result",
          "data": {
            "text/plain": [
              "0.008782829048566474"
            ]
          },
          "metadata": {
            "tags": []
          },
          "execution_count": 158
        }
      ]
    },
    {
      "cell_type": "code",
      "metadata": {
        "id": "Cowm2pQZhVWZ",
        "colab_type": "code",
        "colab": {
          "base_uri": "https://localhost:8080/",
          "height": 34
        },
        "outputId": "421b7b4d-9076-4da8-c2e5-d1f7b4d70c59"
      },
      "source": [
        "# bet if model prob - bookies > .05 & KC MM \n",
        "bet = 0\n",
        "win = 0\n",
        "\n",
        "for i in range(438):\n",
        "  if datasetodds[i,142] > 1:\n",
        "    stake1 = ((predictions[i,0]*datasetodds[i,142])-1)/(datasetodds[i,142]-1)\n",
        "    stake3 = ((predictions[i,0]*datasetodds[i,141])-1)/(datasetodds[i,141]-1)\n",
        "    stake2 = (((1-predictions[i,0])*datasetodds[i,141])-1)/(datasetodds[i,141]-1)\n",
        "    stake4 = (((1-predictions[i,0])*datasetodds[i,142])-1)/(datasetodds[i,142]-1)\n",
        "    if test_labels[i] == 0:\n",
        "      if predictions[i,0] - (1/datasetodds[i,142]) >= 0.05:\n",
        "        bet = bet + stake1\n",
        "      if ((1-predictions[i,0]) - (1/datasetodds[i,141])) >= 0.05:\n",
        "        bet = bet + stake2\n",
        "        win = win + (stake2*datasetodds[i,141]) \n",
        "    else:\n",
        "      if predictions[i,0] - (1/datasetodds[i,141]) >= 0.05:\n",
        "        win = win + (stake3*datasetodds[i,141])\n",
        "        bet = bet + stake3\n",
        "      if ((1-predictions[i,0]) - (1/datasetodds[i,142])) >= 0.05:\n",
        "        bet = bet + stake4\n",
        "        \n",
        "\n",
        "\n",
        "win = win - bet\n",
        "\n",
        "ret = win/bet\n",
        "\n",
        "ret\n"
      ],
      "execution_count": null,
      "outputs": [
        {
          "output_type": "execute_result",
          "data": {
            "text/plain": [
              "0.009554197766833162"
            ]
          },
          "metadata": {
            "tags": []
          },
          "execution_count": 159
        }
      ]
    },
    {
      "cell_type": "code",
      "metadata": {
        "id": "WT1mh1AxjUxJ",
        "colab_type": "code",
        "colab": {
          "base_uri": "https://localhost:8080/",
          "height": 34
        },
        "outputId": "38a24613-0690-4937-fc34-21b237bd8955"
      },
      "source": [
        "# bet if expected positive return & reverse of KC MM \n",
        "\n",
        "bet = 0\n",
        "win = 0\n",
        "\n",
        "for i in range(438):\n",
        "  stake1 = 1 - ((predictions[i,0]*datasetodds[i,142])-1)/(datasetodds[i,142]-1)\n",
        "  stake3 = 1 - ((predictions[i,0]*datasetodds[i,141])-1)/(datasetodds[i,141]-1)\n",
        "  stake2 = 1 - (((1-predictions[i,0])*datasetodds[i,141])-1)/(datasetodds[i,141]-1)\n",
        "  stake4 = 1 - (((1-predictions[i,0])*datasetodds[i,142])-1)/(datasetodds[i,142]-1)\n",
        "  if test_labels[i] == 0:\n",
        "    if predictions[i,0]*datasetodds[i,142] > 1:\n",
        "      bet = bet + stake1\n",
        "    if (1-predictions[i,0])*datasetodds[i,141] >1:\n",
        "      bet = bet + stake2\n",
        "      win = win + (stake2*datasetodds[i,141]) \n",
        "  else:\n",
        "    if predictions[i,0]*datasetodds[i,141] > 1:\n",
        "      win = win + (stake3*datasetodds[i,141])\n",
        "      bet = bet + stake3\n",
        "    if (1-predictions[i,0])*datasetodds[i,142] >1:\n",
        "      bet = bet + stake4\n",
        "      \n",
        "\n",
        "\n",
        "win = win - bet\n",
        "\n",
        "ret = win/bet\n",
        "\n",
        "ret\n"
      ],
      "execution_count": null,
      "outputs": [
        {
          "output_type": "execute_result",
          "data": {
            "text/plain": [
              "-0.014372056779829308"
            ]
          },
          "metadata": {
            "tags": []
          },
          "execution_count": 160
        }
      ]
    },
    {
      "cell_type": "code",
      "metadata": {
        "id": "PQaKk3egjk9X",
        "colab_type": "code",
        "colab": {
          "base_uri": "https://localhost:8080/",
          "height": 34
        },
        "outputId": "cd523e4a-9711-4b37-e2f1-aa458e37a8e7"
      },
      "source": [
        "# bet if model prob - bookies > .05 & reverse of KC MM \n",
        "\n",
        "bet = 0\n",
        "win = 0\n",
        "\n",
        "for i in range(438):\n",
        "  if datasetodds[i,142] > 1:\n",
        "    stake1 = 1 - ((predictions[i,0]*datasetodds[i,142])-1)/(datasetodds[i,142]-1)\n",
        "    stake3 = 1 - ((predictions[i,0]*datasetodds[i,141])-1)/(datasetodds[i,141]-1)\n",
        "    stake2 = 1 - (((1-predictions[i,0])*datasetodds[i,141])-1)/(datasetodds[i,141]-1)\n",
        "    stake4 = 1 - (((1-predictions[i,0])*datasetodds[i,142])-1)/(datasetodds[i,142]-1)\n",
        "    if test_labels[i] == 0:\n",
        "      if predictions[i,0] - (1/datasetodds[i,142]) >= 0.05:\n",
        "        bet = bet + stake1\n",
        "      if ((1-predictions[i,0]) - (1/datasetodds[i,141])) >= 0.05:\n",
        "        bet = bet + stake2\n",
        "        win = win + (stake2*datasetodds[i,141]) \n",
        "    else:\n",
        "      if predictions[i,0] - (1/datasetodds[i,141]) >= 0.05:\n",
        "        win = win + (stake3*datasetodds[i,141])\n",
        "        bet = bet + stake3\n",
        "      if ((1-predictions[i,0]) - (1/datasetodds[i,142])) >= 0.05:\n",
        "        bet = bet + stake4\n",
        "        \n",
        "\n",
        "\n",
        "win = win - bet\n",
        "\n",
        "ret = win/bet\n",
        "\n",
        "ret\n"
      ],
      "execution_count": null,
      "outputs": [
        {
          "output_type": "execute_result",
          "data": {
            "text/plain": [
              "-0.01864293172420583"
            ]
          },
          "metadata": {
            "tags": []
          },
          "execution_count": 161
        }
      ]
    }
  ]
}