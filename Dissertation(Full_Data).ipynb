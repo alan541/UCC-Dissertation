{
  "nbformat": 4,
  "nbformat_minor": 0,
  "metadata": {
    "colab": {
      "name": "Dissertation(Full_Data).ipynb",
      "provenance": [],
      "collapsed_sections": [],
      "authorship_tag": "ABX9TyNmSAxE3Sn8rytIkwP3wARk",
      "include_colab_link": true
    },
    "kernelspec": {
      "name": "python3",
      "display_name": "Python 3"
    }
  },
  "cells": [
    {
      "cell_type": "markdown",
      "metadata": {
        "id": "view-in-github",
        "colab_type": "text"
      },
      "source": [
        "<a href=\"https://colab.research.google.com/github/alan541/UCC-Dissertation/blob/master/Dissertation(Full_Data).ipynb\" target=\"_parent\"><img src=\"https://colab.research.google.com/assets/colab-badge.svg\" alt=\"Open In Colab\"/></a>"
      ]
    },
    {
      "cell_type": "code",
      "metadata": {
        "id": "ZZiQVsHQz6eS",
        "colab_type": "code",
        "colab": {
          "base_uri": "https://localhost:8080/",
          "height": 34
        },
        "outputId": "fb5eaa0b-b9b5-47c4-e7b0-821ede39ef57"
      },
      "source": [
        "import pandas as pd\n",
        "import os\n",
        "from keras.models import Sequential\n",
        "from keras.layers import Dense\n",
        "from keras.wrappers.scikit_learn import KerasClassifier\n",
        "from keras.utils import np_utils\n",
        "from sklearn.model_selection import cross_val_score\n",
        "from sklearn.model_selection import KFold\n",
        "from sklearn.preprocessing import LabelEncoder\n",
        "from sklearn.pipeline import Pipeline\n",
        "import tensorflow as tf\n",
        "from tensorflow import keras\n"
      ],
      "execution_count": null,
      "outputs": [
        {
          "output_type": "stream",
          "text": [
            "Using TensorFlow backend.\n"
          ],
          "name": "stderr"
        }
      ]
    },
    {
      "cell_type": "code",
      "metadata": {
        "id": "WF_IoQUG0EmF",
        "colab_type": "code",
        "colab": {
          "resources": {
            "http://localhost:8080/nbextensions/google.colab/files.js": {
              "data": "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",
              "ok": true,
              "headers": [
                [
                  "content-type",
                  "application/javascript"
                ]
              ],
              "status": 200,
              "status_text": ""
            }
          },
          "base_uri": "https://localhost:8080/",
          "height": 73
        },
        "outputId": "96377411-a60b-46ce-9e5a-e33f24ff1c3c"
      },
      "source": [
        "from google.colab import files\n",
        "uploaded = files.upload()\n"
      ],
      "execution_count": null,
      "outputs": [
        {
          "output_type": "display_data",
          "data": {
            "text/html": [
              "\n",
              "     <input type=\"file\" id=\"files-fe54a4f7-f269-49fb-8372-f8666fbafe16\" name=\"files[]\" multiple disabled\n",
              "        style=\"border:none\" />\n",
              "     <output id=\"result-fe54a4f7-f269-49fb-8372-f8666fbafe16\">\n",
              "      Upload widget is only available when the cell has been executed in the\n",
              "      current browser session. Please rerun this cell to enable.\n",
              "      </output>\n",
              "      <script src=\"/nbextensions/google.colab/files.js\"></script> "
            ],
            "text/plain": [
              "<IPython.core.display.HTML object>"
            ]
          },
          "metadata": {
            "tags": []
          }
        },
        {
          "output_type": "stream",
          "text": [
            "Saving DLtrain.csv to DLtrain.csv\n"
          ],
          "name": "stdout"
        }
      ]
    },
    {
      "cell_type": "code",
      "metadata": {
        "id": "hhGXpvWOCssI",
        "colab_type": "code",
        "colab": {}
      },
      "source": [
        "import io\n",
        "df1 = pd.read_csv(io.BytesIO(uploaded['DLtrain.csv']))\n"
      ],
      "execution_count": null,
      "outputs": []
    },
    {
      "cell_type": "code",
      "metadata": {
        "id": "AiB-Xwbs_WXS",
        "colab_type": "code",
        "colab": {
          "resources": {
            "http://localhost:8080/nbextensions/google.colab/files.js": {
              "data": "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",
              "ok": true,
              "headers": [
                [
                  "content-type",
                  "application/javascript"
                ]
              ],
              "status": 200,
              "status_text": ""
            }
          },
          "base_uri": "https://localhost:8080/",
          "height": 73
        },
        "outputId": "091f6b99-776b-48a0-9d8b-7e6c76d3e987"
      },
      "source": [
        "uploaded = files.upload()"
      ],
      "execution_count": null,
      "outputs": [
        {
          "output_type": "display_data",
          "data": {
            "text/html": [
              "\n",
              "     <input type=\"file\" id=\"files-b5289ba4-e4d5-44bb-81c7-2937bbfcf6f0\" name=\"files[]\" multiple disabled\n",
              "        style=\"border:none\" />\n",
              "     <output id=\"result-b5289ba4-e4d5-44bb-81c7-2937bbfcf6f0\">\n",
              "      Upload widget is only available when the cell has been executed in the\n",
              "      current browser session. Please rerun this cell to enable.\n",
              "      </output>\n",
              "      <script src=\"/nbextensions/google.colab/files.js\"></script> "
            ],
            "text/plain": [
              "<IPython.core.display.HTML object>"
            ]
          },
          "metadata": {
            "tags": []
          }
        },
        {
          "output_type": "stream",
          "text": [
            "Saving DLtest.csv to DLtest.csv\n"
          ],
          "name": "stdout"
        }
      ]
    },
    {
      "cell_type": "code",
      "metadata": {
        "id": "z9X-UDDH_W9n",
        "colab_type": "code",
        "colab": {}
      },
      "source": [
        "df2 = pd.read_csv(io.BytesIO(uploaded['DLtest.csv']))"
      ],
      "execution_count": null,
      "outputs": []
    },
    {
      "cell_type": "code",
      "metadata": {
        "id": "WqbUfrv3AawM",
        "colab_type": "code",
        "colab": {
          "base_uri": "https://localhost:8080/",
          "height": 134
        },
        "outputId": "205bcb78-046d-425c-8460-6e56fb087766"
      },
      "source": [
        "dataset1 = df1.values\n",
        "train_data = dataset1[:,0:41].astype(float)\n",
        "train_labels = dataset1[:,41]\n",
        "print(train_data)"
      ],
      "execution_count": null,
      "outputs": [
        {
          "output_type": "stream",
          "text": [
            "[[ 0.  0.  0. ...  1.  0.  0.]\n",
            " [ 0.  0.  0. ...  1.  0.  0.]\n",
            " [ 0.  0.  0. ...  1.  0.  0.]\n",
            " ...\n",
            " [ 0.  0.  0. ...  1.  0.  0.]\n",
            " [ 0.  0.  0. ...  1.  0.  0.]\n",
            " [ 0.  0. -1. ...  1.  0.  0.]]\n"
          ],
          "name": "stdout"
        }
      ]
    },
    {
      "cell_type": "code",
      "metadata": {
        "id": "TWQdh-CoMPsL",
        "colab_type": "code",
        "colab": {
          "base_uri": "https://localhost:8080/",
          "height": 34
        },
        "outputId": "9b4b2925-45a3-4eb1-9316-cd4aba91f317"
      },
      "source": [
        "dataset2 = df2.values\n",
        "test_data = dataset2[:,0:41].astype(float)\n",
        "test_labels = dataset2[:,41]\n",
        "print(test_labels)\n"
      ],
      "execution_count": null,
      "outputs": [
        {
          "output_type": "stream",
          "text": [
            "[1. 0. 0. ... 1. 0. 1.]\n"
          ],
          "name": "stdout"
        }
      ]
    },
    {
      "cell_type": "code",
      "metadata": {
        "id": "ChKuBAfNPHjR",
        "colab_type": "code",
        "colab": {}
      },
      "source": [
        "model = keras.Sequential([\n",
        "    keras.layers.Dense(128, input_dim = 41, activation='sigmoid'),\n",
        "    keras.layers.Dense(64, activation= 'sigmoid'),\n",
        "    keras.layers.Dense(2, activation = 'softmax')\n",
        "])"
      ],
      "execution_count": null,
      "outputs": []
    },
    {
      "cell_type": "code",
      "metadata": {
        "id": "PmlI18SwQ0CL",
        "colab_type": "code",
        "colab": {}
      },
      "source": [
        "model.compile(optimizer='adam',\n",
        "              loss=tf.keras.losses.SparseCategoricalCrossentropy(from_logits=True),\n",
        "              metrics=['accuracy'])"
      ],
      "execution_count": null,
      "outputs": []
    },
    {
      "cell_type": "code",
      "metadata": {
        "id": "s0ODk126RQLw",
        "colab_type": "code",
        "colab": {
          "base_uri": "https://localhost:8080/",
          "height": 1000
        },
        "outputId": "eeb7e87d-0798-400b-a6d6-a72dd157e7ee"
      },
      "source": [
        "model.fit(train_data, train_labels, epochs=100, batch_size= 200)\n"
      ],
      "execution_count": null,
      "outputs": [
        {
          "output_type": "stream",
          "text": [
            "Epoch 1/100\n",
            "27/27 [==============================] - 0s 2ms/step - loss: 0.6645 - accuracy: 0.6109\n",
            "Epoch 2/100\n",
            "27/27 [==============================] - 0s 2ms/step - loss: 0.6494 - accuracy: 0.6409\n",
            "Epoch 3/100\n",
            "27/27 [==============================] - 0s 2ms/step - loss: 0.6476 - accuracy: 0.6417\n",
            "Epoch 4/100\n",
            "27/27 [==============================] - 0s 2ms/step - loss: 0.6459 - accuracy: 0.6423\n",
            "Epoch 5/100\n",
            "27/27 [==============================] - 0s 2ms/step - loss: 0.6442 - accuracy: 0.6428\n",
            "Epoch 6/100\n",
            "27/27 [==============================] - 0s 2ms/step - loss: 0.6434 - accuracy: 0.6426\n",
            "Epoch 7/100\n",
            "27/27 [==============================] - 0s 2ms/step - loss: 0.6414 - accuracy: 0.6436\n",
            "Epoch 8/100\n",
            "27/27 [==============================] - 0s 2ms/step - loss: 0.6409 - accuracy: 0.6449\n",
            "Epoch 9/100\n",
            "27/27 [==============================] - 0s 2ms/step - loss: 0.6392 - accuracy: 0.6454\n",
            "Epoch 10/100\n",
            "27/27 [==============================] - 0s 2ms/step - loss: 0.6393 - accuracy: 0.6473\n",
            "Epoch 11/100\n",
            "27/27 [==============================] - 0s 2ms/step - loss: 0.6394 - accuracy: 0.6443\n",
            "Epoch 12/100\n",
            "27/27 [==============================] - 0s 2ms/step - loss: 0.6394 - accuracy: 0.6460\n",
            "Epoch 13/100\n",
            "27/27 [==============================] - 0s 2ms/step - loss: 0.6354 - accuracy: 0.6492\n",
            "Epoch 14/100\n",
            "27/27 [==============================] - 0s 2ms/step - loss: 0.6356 - accuracy: 0.6488\n",
            "Epoch 15/100\n",
            "27/27 [==============================] - 0s 2ms/step - loss: 0.6362 - accuracy: 0.6483\n",
            "Epoch 16/100\n",
            "27/27 [==============================] - 0s 2ms/step - loss: 0.6351 - accuracy: 0.6524\n",
            "Epoch 17/100\n",
            "27/27 [==============================] - 0s 2ms/step - loss: 0.6345 - accuracy: 0.6515\n",
            "Epoch 18/100\n",
            "27/27 [==============================] - 0s 2ms/step - loss: 0.6331 - accuracy: 0.6539\n",
            "Epoch 19/100\n",
            "27/27 [==============================] - 0s 2ms/step - loss: 0.6337 - accuracy: 0.6483\n",
            "Epoch 20/100\n",
            "27/27 [==============================] - 0s 2ms/step - loss: 0.6311 - accuracy: 0.6539\n",
            "Epoch 21/100\n",
            "27/27 [==============================] - 0s 2ms/step - loss: 0.6310 - accuracy: 0.6580\n",
            "Epoch 22/100\n",
            "27/27 [==============================] - 0s 2ms/step - loss: 0.6315 - accuracy: 0.6552\n",
            "Epoch 23/100\n",
            "27/27 [==============================] - 0s 2ms/step - loss: 0.6313 - accuracy: 0.6569\n",
            "Epoch 24/100\n",
            "27/27 [==============================] - 0s 2ms/step - loss: 0.6304 - accuracy: 0.6562\n",
            "Epoch 25/100\n",
            "27/27 [==============================] - 0s 2ms/step - loss: 0.6318 - accuracy: 0.6541\n",
            "Epoch 26/100\n",
            "27/27 [==============================] - 0s 2ms/step - loss: 0.6301 - accuracy: 0.6571\n",
            "Epoch 27/100\n",
            "27/27 [==============================] - 0s 2ms/step - loss: 0.6298 - accuracy: 0.6567\n",
            "Epoch 28/100\n",
            "27/27 [==============================] - 0s 2ms/step - loss: 0.6293 - accuracy: 0.6592\n",
            "Epoch 29/100\n",
            "27/27 [==============================] - 0s 2ms/step - loss: 0.6288 - accuracy: 0.6580\n",
            "Epoch 30/100\n",
            "27/27 [==============================] - 0s 2ms/step - loss: 0.6289 - accuracy: 0.6567\n",
            "Epoch 31/100\n",
            "27/27 [==============================] - 0s 2ms/step - loss: 0.6290 - accuracy: 0.6578\n",
            "Epoch 32/100\n",
            "27/27 [==============================] - 0s 2ms/step - loss: 0.6293 - accuracy: 0.6577\n",
            "Epoch 33/100\n",
            "27/27 [==============================] - 0s 2ms/step - loss: 0.6291 - accuracy: 0.6560\n",
            "Epoch 34/100\n",
            "27/27 [==============================] - 0s 2ms/step - loss: 0.6275 - accuracy: 0.6603\n",
            "Epoch 35/100\n",
            "27/27 [==============================] - 0s 2ms/step - loss: 0.6271 - accuracy: 0.6629\n",
            "Epoch 36/100\n",
            "27/27 [==============================] - 0s 2ms/step - loss: 0.6271 - accuracy: 0.6592\n",
            "Epoch 37/100\n",
            "27/27 [==============================] - 0s 2ms/step - loss: 0.6264 - accuracy: 0.6667\n",
            "Epoch 38/100\n",
            "27/27 [==============================] - 0s 2ms/step - loss: 0.6264 - accuracy: 0.6642\n",
            "Epoch 39/100\n",
            "27/27 [==============================] - 0s 2ms/step - loss: 0.6286 - accuracy: 0.6543\n",
            "Epoch 40/100\n",
            "27/27 [==============================] - 0s 2ms/step - loss: 0.6276 - accuracy: 0.6593\n",
            "Epoch 41/100\n",
            "27/27 [==============================] - 0s 2ms/step - loss: 0.6259 - accuracy: 0.6623\n",
            "Epoch 42/100\n",
            "27/27 [==============================] - 0s 2ms/step - loss: 0.6234 - accuracy: 0.6678\n",
            "Epoch 43/100\n",
            "27/27 [==============================] - 0s 2ms/step - loss: 0.6236 - accuracy: 0.6655\n",
            "Epoch 44/100\n",
            "27/27 [==============================] - 0s 2ms/step - loss: 0.6246 - accuracy: 0.6655\n",
            "Epoch 45/100\n",
            "27/27 [==============================] - 0s 2ms/step - loss: 0.6226 - accuracy: 0.6676\n",
            "Epoch 46/100\n",
            "27/27 [==============================] - 0s 2ms/step - loss: 0.6232 - accuracy: 0.6663\n",
            "Epoch 47/100\n",
            "27/27 [==============================] - 0s 2ms/step - loss: 0.6232 - accuracy: 0.6691\n",
            "Epoch 48/100\n",
            "27/27 [==============================] - 0s 2ms/step - loss: 0.6228 - accuracy: 0.6659\n",
            "Epoch 49/100\n",
            "27/27 [==============================] - 0s 2ms/step - loss: 0.6221 - accuracy: 0.6708\n",
            "Epoch 50/100\n",
            "27/27 [==============================] - 0s 2ms/step - loss: 0.6217 - accuracy: 0.6740\n",
            "Epoch 51/100\n",
            "27/27 [==============================] - 0s 2ms/step - loss: 0.6235 - accuracy: 0.6633\n",
            "Epoch 52/100\n",
            "27/27 [==============================] - 0s 2ms/step - loss: 0.6248 - accuracy: 0.6610\n",
            "Epoch 53/100\n",
            "27/27 [==============================] - 0s 2ms/step - loss: 0.6203 - accuracy: 0.6685\n",
            "Epoch 54/100\n",
            "27/27 [==============================] - 0s 2ms/step - loss: 0.6200 - accuracy: 0.6689\n",
            "Epoch 55/100\n",
            "27/27 [==============================] - 0s 2ms/step - loss: 0.6192 - accuracy: 0.6751\n",
            "Epoch 56/100\n",
            "27/27 [==============================] - 0s 2ms/step - loss: 0.6249 - accuracy: 0.6627\n",
            "Epoch 57/100\n",
            "27/27 [==============================] - 0s 2ms/step - loss: 0.6207 - accuracy: 0.6702\n",
            "Epoch 58/100\n",
            "27/27 [==============================] - 0s 2ms/step - loss: 0.6197 - accuracy: 0.6738\n",
            "Epoch 59/100\n",
            "27/27 [==============================] - 0s 2ms/step - loss: 0.6202 - accuracy: 0.6732\n",
            "Epoch 60/100\n",
            "27/27 [==============================] - 0s 2ms/step - loss: 0.6212 - accuracy: 0.6700\n",
            "Epoch 61/100\n",
            "27/27 [==============================] - 0s 2ms/step - loss: 0.6188 - accuracy: 0.6729\n",
            "Epoch 62/100\n",
            "27/27 [==============================] - 0s 2ms/step - loss: 0.6183 - accuracy: 0.6740\n",
            "Epoch 63/100\n",
            "27/27 [==============================] - 0s 2ms/step - loss: 0.6182 - accuracy: 0.6734\n",
            "Epoch 64/100\n",
            "27/27 [==============================] - 0s 2ms/step - loss: 0.6172 - accuracy: 0.6751\n",
            "Epoch 65/100\n",
            "27/27 [==============================] - 0s 2ms/step - loss: 0.6161 - accuracy: 0.6789\n",
            "Epoch 66/100\n",
            "27/27 [==============================] - 0s 2ms/step - loss: 0.6171 - accuracy: 0.6787\n",
            "Epoch 67/100\n",
            "27/27 [==============================] - 0s 2ms/step - loss: 0.6165 - accuracy: 0.6768\n",
            "Epoch 68/100\n",
            "27/27 [==============================] - 0s 2ms/step - loss: 0.6148 - accuracy: 0.6794\n",
            "Epoch 69/100\n",
            "27/27 [==============================] - 0s 2ms/step - loss: 0.6154 - accuracy: 0.6804\n",
            "Epoch 70/100\n",
            "27/27 [==============================] - 0s 2ms/step - loss: 0.6148 - accuracy: 0.6804\n",
            "Epoch 71/100\n",
            "27/27 [==============================] - 0s 2ms/step - loss: 0.6153 - accuracy: 0.6770\n",
            "Epoch 72/100\n",
            "27/27 [==============================] - 0s 2ms/step - loss: 0.6147 - accuracy: 0.6791\n",
            "Epoch 73/100\n",
            "27/27 [==============================] - 0s 2ms/step - loss: 0.6178 - accuracy: 0.6761\n",
            "Epoch 74/100\n",
            "27/27 [==============================] - 0s 2ms/step - loss: 0.6145 - accuracy: 0.6817\n",
            "Epoch 75/100\n",
            "27/27 [==============================] - 0s 2ms/step - loss: 0.6154 - accuracy: 0.6781\n",
            "Epoch 76/100\n",
            "27/27 [==============================] - 0s 2ms/step - loss: 0.6134 - accuracy: 0.6819\n",
            "Epoch 77/100\n",
            "27/27 [==============================] - 0s 2ms/step - loss: 0.6130 - accuracy: 0.6817\n",
            "Epoch 78/100\n",
            "27/27 [==============================] - 0s 2ms/step - loss: 0.6119 - accuracy: 0.6834\n",
            "Epoch 79/100\n",
            "27/27 [==============================] - 0s 2ms/step - loss: 0.6115 - accuracy: 0.6800\n",
            "Epoch 80/100\n",
            "27/27 [==============================] - 0s 2ms/step - loss: 0.6138 - accuracy: 0.6824\n",
            "Epoch 81/100\n",
            "27/27 [==============================] - 0s 2ms/step - loss: 0.6130 - accuracy: 0.6794\n",
            "Epoch 82/100\n",
            "27/27 [==============================] - 0s 2ms/step - loss: 0.6088 - accuracy: 0.6871\n",
            "Epoch 83/100\n",
            "27/27 [==============================] - 0s 2ms/step - loss: 0.6100 - accuracy: 0.6841\n",
            "Epoch 84/100\n",
            "27/27 [==============================] - 0s 2ms/step - loss: 0.6108 - accuracy: 0.6845\n",
            "Epoch 85/100\n",
            "27/27 [==============================] - 0s 2ms/step - loss: 0.6104 - accuracy: 0.6828\n",
            "Epoch 86/100\n",
            "27/27 [==============================] - 0s 2ms/step - loss: 0.6088 - accuracy: 0.6930\n",
            "Epoch 87/100\n",
            "27/27 [==============================] - 0s 2ms/step - loss: 0.6116 - accuracy: 0.6808\n",
            "Epoch 88/100\n",
            "27/27 [==============================] - 0s 2ms/step - loss: 0.6105 - accuracy: 0.6847\n",
            "Epoch 89/100\n",
            "27/27 [==============================] - 0s 2ms/step - loss: 0.6089 - accuracy: 0.6879\n",
            "Epoch 90/100\n",
            "27/27 [==============================] - 0s 2ms/step - loss: 0.6091 - accuracy: 0.6849\n",
            "Epoch 91/100\n",
            "27/27 [==============================] - 0s 2ms/step - loss: 0.6104 - accuracy: 0.6845\n",
            "Epoch 92/100\n",
            "27/27 [==============================] - 0s 2ms/step - loss: 0.6092 - accuracy: 0.6838\n",
            "Epoch 93/100\n",
            "27/27 [==============================] - 0s 2ms/step - loss: 0.6071 - accuracy: 0.6853\n",
            "Epoch 94/100\n",
            "27/27 [==============================] - 0s 2ms/step - loss: 0.6058 - accuracy: 0.6920\n",
            "Epoch 95/100\n",
            "27/27 [==============================] - 0s 2ms/step - loss: 0.6056 - accuracy: 0.6937\n",
            "Epoch 96/100\n",
            "27/27 [==============================] - 0s 2ms/step - loss: 0.6069 - accuracy: 0.6907\n",
            "Epoch 97/100\n",
            "27/27 [==============================] - 0s 2ms/step - loss: 0.6068 - accuracy: 0.6903\n",
            "Epoch 98/100\n",
            "27/27 [==============================] - 0s 2ms/step - loss: 0.6051 - accuracy: 0.6879\n",
            "Epoch 99/100\n",
            "27/27 [==============================] - 0s 2ms/step - loss: 0.6062 - accuracy: 0.6890\n",
            "Epoch 100/100\n",
            "27/27 [==============================] - 0s 2ms/step - loss: 0.6062 - accuracy: 0.6967\n"
          ],
          "name": "stdout"
        },
        {
          "output_type": "execute_result",
          "data": {
            "text/plain": [
              "<tensorflow.python.keras.callbacks.History at 0x7fe7463ac198>"
            ]
          },
          "metadata": {
            "tags": []
          },
          "execution_count": 221
        }
      ]
    },
    {
      "cell_type": "code",
      "metadata": {
        "id": "0EvzVem5FrHG",
        "colab_type": "code",
        "colab": {
          "base_uri": "https://localhost:8080/",
          "height": 67
        },
        "outputId": "4e4d2731-a92b-4133-ca7b-2bd4cb93d121"
      },
      "source": [
        "test_loss, test_acc = model.evaluate(test_data,  test_labels, verbose=2)\n",
        "\n",
        "print('\\nTest accuracy:', test_acc)"
      ],
      "execution_count": null,
      "outputs": [
        {
          "output_type": "stream",
          "text": [
            "72/72 - 0s - loss: 0.6484 - accuracy: 0.6350\n",
            "\n",
            "Test accuracy: 0.6349693536758423\n"
          ],
          "name": "stdout"
        }
      ]
    },
    {
      "cell_type": "code",
      "metadata": {
        "id": "jv9djFiZGRup",
        "colab_type": "code",
        "colab": {}
      },
      "source": [
        "probability_model = tf.keras.Sequential([model, \n",
        "                                         tf.keras.layers.Softmax()])"
      ],
      "execution_count": null,
      "outputs": []
    },
    {
      "cell_type": "code",
      "metadata": {
        "id": "iC-qBI-eG0et",
        "colab_type": "code",
        "colab": {}
      },
      "source": [
        "predictions = probability_model.predict(test_data)"
      ],
      "execution_count": null,
      "outputs": []
    },
    {
      "cell_type": "code",
      "metadata": {
        "id": "0EcAtOOe4hDW",
        "colab_type": "code",
        "colab": {
          "resources": {
            "http://localhost:8080/nbextensions/google.colab/files.js": {
              "data": "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",
              "ok": true,
              "headers": [
                [
                  "content-type",
                  "application/javascript"
                ]
              ],
              "status": 200,
              "status_text": ""
            }
          },
          "base_uri": "https://localhost:8080/",
          "height": 73
        },
        "outputId": "b824603b-ee6e-44f9-8c41-36684ee1e5cc"
      },
      "source": [
        "from google.colab import files\n",
        "uploaded = files.upload()\n"
      ],
      "execution_count": null,
      "outputs": [
        {
          "output_type": "display_data",
          "data": {
            "text/html": [
              "\n",
              "     <input type=\"file\" id=\"files-12a9870d-c679-459a-912e-0087df16bc7e\" name=\"files[]\" multiple disabled\n",
              "        style=\"border:none\" />\n",
              "     <output id=\"result-12a9870d-c679-459a-912e-0087df16bc7e\">\n",
              "      Upload widget is only available when the cell has been executed in the\n",
              "      current browser session. Please rerun this cell to enable.\n",
              "      </output>\n",
              "      <script src=\"/nbextensions/google.colab/files.js\"></script> "
            ],
            "text/plain": [
              "<IPython.core.display.HTML object>"
            ]
          },
          "metadata": {
            "tags": []
          }
        },
        {
          "output_type": "stream",
          "text": [
            "Saving tenniste.csv to tenniste.csv\n"
          ],
          "name": "stdout"
        }
      ]
    },
    {
      "cell_type": "code",
      "metadata": {
        "id": "OAdqFAX148YR",
        "colab_type": "code",
        "colab": {}
      },
      "source": [
        "odds = pd.read_csv(io.BytesIO(uploaded['tenniste.csv']))\n"
      ],
      "execution_count": null,
      "outputs": []
    },
    {
      "cell_type": "code",
      "metadata": {
        "id": "OLXrUJWh5zyf",
        "colab_type": "code",
        "colab": {
          "base_uri": "https://localhost:8080/",
          "height": 34
        },
        "outputId": "d15af82d-11c6-4f5e-fbf3-b24b0d02e004"
      },
      "source": [
        "datasetodds = odds.values"
      ],
      "execution_count": null,
      "outputs": [
        {
          "output_type": "execute_result",
          "data": {
            "text/plain": [
              "1.83"
            ]
          },
          "metadata": {
            "tags": []
          },
          "execution_count": 274
        }
      ]
    },
    {
      "cell_type": "code",
      "metadata": {
        "id": "ykdxqP6y8nyW",
        "colab_type": "code",
        "colab": {
          "base_uri": "https://localhost:8080/",
          "height": 34
        },
        "outputId": "6d7c17e3-aa41-4c64-97f6-61b5271828aa"
      },
      "source": [
        "# bet on favourite strategy\n",
        "bet = 0\n",
        "win = 0\n",
        "\n",
        "for i in range(2282):\n",
        "  if test_labels[i] == 0:\n",
        "    if predictions[i,0] < 0.50 and datasetodds[i,141] > 0:\n",
        "      win = win + datasetodds[i,141] \n",
        "    if datasetodds[i,141] >0:\n",
        "      bet = bet + 1\n",
        "  else:\n",
        "    if predictions[i,0] >= 0.50 and datasetodds[i,141] > 0:\n",
        "      win = win + datasetodds[i,141]\n",
        "    if datasetodds[i,141] >0:\n",
        "      bet = bet + 1\n",
        "\n",
        "\n",
        "win = win - bet\n",
        "\n",
        "ret = win/bet\n",
        "\n",
        "ret\n"
      ],
      "execution_count": null,
      "outputs": [
        {
          "output_type": "execute_result",
          "data": {
            "text/plain": [
              "-0.0564956140350871"
            ]
          },
          "metadata": {
            "tags": []
          },
          "execution_count": 277
        }
      ]
    },
    {
      "cell_type": "code",
      "metadata": {
        "id": "HlNzQaUfIrNK",
        "colab_type": "code",
        "colab": {
          "base_uri": "https://localhost:8080/",
          "height": 50
        },
        "outputId": "c5e1febd-4ba1-4b74-ef74-c98ee9b62709"
      },
      "source": [
        "# high probs only betting\n",
        "bet = 0\n",
        "win = 0\n",
        "\n",
        "for i in range(2282):\n",
        "  if test_labels[i] == 0:\n",
        "    if predictions[i,0] <= 0.30 and datasetodds[i,141] > 0:\n",
        "      win = win + datasetodds[i,141] \n",
        "      bet = bet + 1\n",
        "    if predictions[i,0] > 0.70 and datasetodds[i,141] >0:\n",
        "      bet = bet + 1\n",
        "  else:\n",
        "    if predictions[i,0] >= 0.70 and datasetodds[i,141] > 0:\n",
        "      win = win + datasetodds[i,141]\n",
        "      bet = bet + 1\n",
        "    if predictions[i,0] < 0.30 and datasetodds[i,141] >0:\n",
        "      bet = bet + 1\n",
        "\n",
        "\n",
        "win = win - bet\n",
        "\n",
        "ret = win/bet\n",
        "\n",
        "print(bet)\n",
        "\n",
        "print(ret)\n"
      ],
      "execution_count": null,
      "outputs": [
        {
          "output_type": "stream",
          "text": [
            "944\n",
            "0.001705508474576406\n"
          ],
          "name": "stdout"
        }
      ]
    },
    {
      "cell_type": "code",
      "metadata": {
        "colab_type": "code",
        "id": "9LYw-oKON9W9",
        "colab": {
          "base_uri": "https://localhost:8080/",
          "height": 50
        },
        "outputId": "cb0e3183-f157-49b7-c5ad-a0b8ff8243e7"
      },
      "source": [
        "# bet if expected positive return\n",
        "bet = 0\n",
        "win = 0\n",
        "\n",
        "for i in range(2282):\n",
        "  if test_labels[i] == 0:\n",
        "    if predictions[i,0]*datasetodds[i,142] > 1:\n",
        "      bet = bet + 1\n",
        "    if (1-predictions[i,0])*datasetodds[i,141] >1:\n",
        "      bet = bet + 1\n",
        "      win = win + datasetodds[i,141] \n",
        "  else:\n",
        "    if predictions[i,0]*datasetodds[i,141] > 1:\n",
        "      bet = bet + 1\n",
        "      win = win + datasetodds[i,141] \n",
        "    if (1-predictions[i,0])*datasetodds[i,142] >1:\n",
        "      bet = bet + 1\n",
        "      \n",
        "\n",
        "\n",
        "win = win - bet\n",
        "\n",
        "ret = win/bet\n",
        "\n",
        "ret\n"
      ],
      "execution_count": null,
      "outputs": [
        {
          "output_type": "stream",
          "text": [
            "2187\n",
            "-0.035121170553269083\n"
          ],
          "name": "stdout"
        }
      ]
    },
    {
      "cell_type": "code",
      "metadata": {
        "id": "3B-SrHwbSnuA",
        "colab_type": "code",
        "colab": {
          "base_uri": "https://localhost:8080/",
          "height": 50
        },
        "outputId": "ede9b8e5-d875-4a8d-f283-753b27a5a39a"
      },
      "source": [
        "# bet if model prob - bookie prob > .05\n",
        "bet = 0\n",
        "win = 0\n",
        "\n",
        "for i in range(2282):\n",
        "  if datasetodds[i,142] > 1:\n",
        "    if test_labels[i] == 0:\n",
        "      if predictions[i,0] - (1/datasetodds[i,142]) >= 0.05:\n",
        "        bet = bet + 1\n",
        "      if ((1-predictions[i,0]) - (1/datasetodds[i,141])) >= 0.05:\n",
        "        bet = bet + 1\n",
        "        win = win + datasetodds[i,141] \n",
        "    else:\n",
        "      if predictions[i,0] - (1/datasetodds[i,141]) >= 0.05:\n",
        "        bet = bet + 1\n",
        "        win = win + datasetodds[i,141] \n",
        "      if ((1-predictions[i,0]) - (1/datasetodds[i,142])) >= 0.05:\n",
        "        bet = bet + 1\n",
        "      \n",
        "\n",
        "win = win - bet\n",
        "\n",
        "ret = win/bet\n",
        "\n",
        "ret\n"
      ],
      "execution_count": null,
      "outputs": [
        {
          "output_type": "stream",
          "text": [
            "2006\n",
            "-0.04318045862412824\n"
          ],
          "name": "stdout"
        }
      ]
    },
    {
      "cell_type": "code",
      "metadata": {
        "id": "9MOxBH61VrXO",
        "colab_type": "code",
        "colab": {
          "base_uri": "https://localhost:8080/",
          "height": 34
        },
        "outputId": "c7f6e088-b09b-4967-ae73-4f87d7f8b672"
      },
      "source": [
        "# bet on favourite strategy with % of bank roll MM\n",
        "\n",
        "nb = 0\n",
        "BR = 2282\n",
        "bet = 0\n",
        "win = 0\n",
        "\n",
        "for i in range(2282):\n",
        "  stake = 0.01*BR\n",
        "  if test_labels[i] == 0:\n",
        "    if predictions[i,0] < 0.50 and datasetodds[i,141] > 0:\n",
        "      bet = bet + stake\n",
        "      win = win + (stake*datasetodds[i,141]) \n",
        "      BR = BR + ((stake*datasetodds[i,141]) - stake)\n",
        "      nb = nb + 1\n",
        "    if  predictions[i,0] > 0.50 and datasetodds[i,141] >0:\n",
        "      bet = bet + stake\n",
        "      BR = BR - stake\n",
        "      nb = nb + 1\n",
        "  else:\n",
        "    if predictions[i,0] > 0.50 and datasetodds[i,141] > 0:\n",
        "      bet = bet + stake\n",
        "      win = win + (stake*datasetodds[i,141]) \n",
        "      BR = BR + ((stake*datasetodds[i,141]) - stake)\n",
        "      nb = nb + 1\n",
        "    if  predictions[i,0] < 0.50 and datasetodds[i,141] >0:\n",
        "      bet = bet + stake\n",
        "      BR = BR - stake\n",
        "      nb = nb + 1\n",
        "\n",
        "    if BR <=0:\n",
        "      break \n",
        "\n",
        "\n",
        "win = win - bet\n",
        "\n",
        "ret = win/bet\n",
        "\n",
        "ret\n"
      ],
      "execution_count": null,
      "outputs": [
        {
          "output_type": "execute_result",
          "data": {
            "text/plain": [
              "-0.054148961837413495"
            ]
          },
          "metadata": {
            "tags": []
          },
          "execution_count": 295
        }
      ]
    },
    {
      "cell_type": "code",
      "metadata": {
        "id": "fgB-xpbpYJrk",
        "colab_type": "code",
        "colab": {
          "base_uri": "https://localhost:8080/",
          "height": 50
        },
        "outputId": "8e676b4a-fd21-4759-889c-faae005f8c91"
      },
      "source": [
        "# high probs only betting with % of BR MM\n",
        "bet = 0\n",
        "win = 0\n",
        "nb = 0\n",
        "BR =2282\n",
        "\n",
        "for i in range(2282):\n",
        "  stake = .01*BR\n",
        "  if test_labels[i] == 0:\n",
        "    if predictions[i,0] <= 0.30 and datasetodds[i,141] > 0:\n",
        "      bet = bet + stake\n",
        "      win = win + (stake*datasetodds[i,141])\n",
        "      BR = BR + ((stake*datasetodds[i,141]) - stake)\n",
        "      nb = nb + 1\n",
        "    if predictions[i,0] > 0.70 and datasetodds[i,141] >0:\n",
        "      bet = bet + stake\n",
        "      BR = BR - stake\n",
        "      nb = nb + 1\n",
        "  else:\n",
        "    if predictions[i,0] >= 0.70 and datasetodds[i,141] > 0:\n",
        "      bet = bet + stake\n",
        "      win = win + (stake*datasetodds[i,141])\n",
        "      BR = BR + ((stake*datasetodds[i,141]) - stake)\n",
        "      nb = nb + 1\n",
        "    if predictions[i,0] < 0.30 and datasetodds[i,141] >0:\n",
        "      bet = bet + stake\n",
        "      BR = BR - stake\n",
        "      nb = nb + 1\n",
        "  if BR <=0:\n",
        "      break \n",
        "\n",
        "win = win - bet\n",
        "\n",
        "ret = win/bet\n",
        "\n",
        "ret\n"
      ],
      "execution_count": null,
      "outputs": [
        {
          "output_type": "stream",
          "text": [
            "23321.212801318838\n",
            "-0.015006005758162426\n"
          ],
          "name": "stdout"
        }
      ]
    },
    {
      "cell_type": "code",
      "metadata": {
        "id": "IqpU9WPLZOP4",
        "colab_type": "code",
        "colab": {
          "base_uri": "https://localhost:8080/",
          "height": 34
        },
        "outputId": "4c2bcbd4-c108-473a-d420-881310985d2d"
      },
      "source": [
        "# bet if expected positive return and % of BR MM\n",
        "bet = 0\n",
        "win = 0\n",
        "BR = 2282\n",
        "nb = 0\n",
        "\n",
        "for i in range(2282):\n",
        "  stake =.01*BR\n",
        "  if test_labels[i] == 0:\n",
        "    if predictions[i,0]*datasetodds[i,142] > 1:\n",
        "      bet = bet + stake\n",
        "      BR = BR - stake\n",
        "      nb = nb + 1\n",
        "    if (1-predictions[i,0])*datasetodds[i,141] >1:\n",
        "      bet = bet + stake\n",
        "      win = win + (stake*datasetodds[i,141])\n",
        "      BR = BR + ((stake*datasetodds[i,141]) - stake)\n",
        "      nb = nb + 1\n",
        "  else:\n",
        "    if predictions[i,0]*datasetodds[i,141] > 1:\n",
        "      win = win + (stake*datasetodds[i,141])\n",
        "      bet = bet + stake\n",
        "      BR = BR + ((stake*datasetodds[i,141]) - stake)\n",
        "      nb = nb + 1\n",
        "    if (1-predictions[i,0])*datasetodds[i,142] >1:\n",
        "      bet = bet + stake\n",
        "      BR = BR - stake\n",
        "      nb = nb + 1\n",
        "  if BR <=0:\n",
        "      break       \n",
        "\n",
        "\n",
        "win = win - bet\n",
        "\n",
        "ret = win/bet\n",
        "\n",
        "ret\n"
      ],
      "execution_count": null,
      "outputs": [
        {
          "output_type": "execute_result",
          "data": {
            "text/plain": [
              "-0.03244021428255258"
            ]
          },
          "metadata": {
            "tags": []
          },
          "execution_count": 297
        }
      ]
    },
    {
      "cell_type": "code",
      "metadata": {
        "id": "R7H1M4xibJnK",
        "colab_type": "code",
        "colab": {
          "base_uri": "https://localhost:8080/",
          "height": 34
        },
        "outputId": "f5e642c4-019c-47c6-9ee7-1f740170d779"
      },
      "source": [
        "# bet if model prob - bookie prob > .05 and % of BR MM\n",
        "bet = 0\n",
        "win = 0\n",
        "nb = 0\n",
        "BR = 2282\n",
        "\n",
        "for i in range(2282):\n",
        "  if datasetodds[i,142] > 1:\n",
        "    if test_labels[i] == 0:\n",
        "      if predictions[i,0] - (1/datasetodds[i,142]) >= 0.05:\n",
        "        bet = bet + stake\n",
        "        BR = BR - stake\n",
        "        nb = nb + 1\n",
        "      if ((1-predictions[i,0]) - (1/datasetodds[i,141])) >= 0.05:\n",
        "        bet = bet + stake\n",
        "        win = win + (stake*datasetodds[i,141])\n",
        "        BR = BR + ((stake*datasetodds[i,141]) - stake)\n",
        "        nb = nb + 1\n",
        "    else:\n",
        "      if predictions[i,0] - (1/datasetodds[i,141]) >= 0.05:\n",
        "        win = win + (stake*datasetodds[i,141])\n",
        "        bet = bet + stake\n",
        "        BR = BR + ((stake*datasetodds[i,141]) - stake)\n",
        "        nb = nb + 1\n",
        "      if ((1-predictions[i,0]) - (1/datasetodds[i,142])) >= 0.05:\n",
        "        bet = bet + stake\n",
        "        BR = BR - stake\n",
        "        nb = nb + 1\n",
        "    if BR <=0:\n",
        "      break     \n",
        "\n",
        "win = win - bet\n",
        "\n",
        "ret = win/bet\n",
        "\n",
        "ret\n"
      ],
      "execution_count": null,
      "outputs": [
        {
          "output_type": "execute_result",
          "data": {
            "text/plain": [
              "-0.043180458624150216"
            ]
          },
          "metadata": {
            "tags": []
          },
          "execution_count": 298
        }
      ]
    },
    {
      "cell_type": "code",
      "metadata": {
        "id": "ZxiPcVJ8cOho",
        "colab_type": "code",
        "colab": {
          "base_uri": "https://localhost:8080/",
          "height": 34
        },
        "outputId": "18020eb2-c65f-4a9b-9fdb-6804e495c4d1"
      },
      "source": [
        "# bet if expected positive return & KC MM \n",
        "bet = 0\n",
        "win = 0\n",
        "\n",
        "for i in range(2282):\n",
        "  stake1 = ((predictions[i,0]*datasetodds[i,142])-1)/(datasetodds[i,142]-1)\n",
        "  stake3 = ((predictions[i,0]*datasetodds[i,141])-1)/(datasetodds[i,141]-1)\n",
        "  stake2 = (((1-predictions[i,0])*datasetodds[i,141])-1)/(datasetodds[i,141]-1)\n",
        "  stake4 = (((1-predictions[i,0])*datasetodds[i,142])-1)/(datasetodds[i,142]-1)\n",
        "  if test_labels[i] == 0:\n",
        "    if predictions[i,0]*datasetodds[i,142] > 1:\n",
        "      bet = bet + stake1\n",
        "    if (1-predictions[i,0])*datasetodds[i,141] >1:\n",
        "      bet = bet + stake2\n",
        "      win = win + (stake2*datasetodds[i,141]) \n",
        "  else:\n",
        "    if predictions[i,0]*datasetodds[i,141] > 1:\n",
        "      win = win + (stake3*datasetodds[i,141])\n",
        "      bet = bet + stake3\n",
        "    if (1-predictions[i,0])*datasetodds[i,142] >1:\n",
        "      bet = bet + stake4\n",
        "      \n",
        "\n",
        "\n",
        "win = win - bet\n",
        "\n",
        "ret = win/bet\n",
        "\n",
        "ret\n"
      ],
      "execution_count": null,
      "outputs": [
        {
          "output_type": "execute_result",
          "data": {
            "text/plain": [
              "-0.03138208694618706"
            ]
          },
          "metadata": {
            "tags": []
          },
          "execution_count": 299
        }
      ]
    },
    {
      "cell_type": "code",
      "metadata": {
        "id": "Cowm2pQZhVWZ",
        "colab_type": "code",
        "colab": {
          "base_uri": "https://localhost:8080/",
          "height": 34
        },
        "outputId": "20ae8a94-6549-485e-e285-d5d2dfa5755c"
      },
      "source": [
        "# bet if model prob - bookies > .05 & KC MM \n",
        "bet = 0\n",
        "win = 0\n",
        "\n",
        "for i in range(2282):\n",
        "  if datasetodds[i,142] > 1:\n",
        "    stake1 = ((predictions[i,0]*datasetodds[i,142])-1)/(datasetodds[i,142]-1)\n",
        "    stake3 = ((predictions[i,0]*datasetodds[i,141])-1)/(datasetodds[i,141]-1)\n",
        "    stake2 = (((1-predictions[i,0])*datasetodds[i,141])-1)/(datasetodds[i,141]-1)\n",
        "    stake4 = (((1-predictions[i,0])*datasetodds[i,142])-1)/(datasetodds[i,142]-1)\n",
        "    if test_labels[i] == 0:\n",
        "      if predictions[i,0] - (1/datasetodds[i,142]) >= 0.05:\n",
        "        bet = bet + stake1\n",
        "      if ((1-predictions[i,0]) - (1/datasetodds[i,141])) >= 0.05:\n",
        "        bet = bet + stake2\n",
        "        win = win + (stake2*datasetodds[i,141]) \n",
        "    else:\n",
        "      if predictions[i,0] - (1/datasetodds[i,141]) >= 0.05:\n",
        "        win = win + (stake3*datasetodds[i,141])\n",
        "        bet = bet + stake3\n",
        "      if ((1-predictions[i,0]) - (1/datasetodds[i,142])) >= 0.05:\n",
        "        bet = bet + stake4\n",
        "        \n",
        "\n",
        "\n",
        "win = win - bet\n",
        "\n",
        "ret = win/bet\n",
        "\n",
        "ret\n"
      ],
      "execution_count": null,
      "outputs": [
        {
          "output_type": "execute_result",
          "data": {
            "text/plain": [
              "-0.03193163998006029"
            ]
          },
          "metadata": {
            "tags": []
          },
          "execution_count": 300
        }
      ]
    },
    {
      "cell_type": "code",
      "metadata": {
        "id": "WT1mh1AxjUxJ",
        "colab_type": "code",
        "colab": {
          "base_uri": "https://localhost:8080/",
          "height": 34
        },
        "outputId": "cffb5295-5a12-4aee-f920-56241bb5d1b2"
      },
      "source": [
        "# bet if expected positive return & reverse of KC MM \n",
        "\n",
        "bet = 0\n",
        "win = 0\n",
        "\n",
        "for i in range(2282):\n",
        "  stake1 = 1 - ((predictions[i,0]*datasetodds[i,142])-1)/(datasetodds[i,142]-1)\n",
        "  stake3 = 1 - ((predictions[i,0]*datasetodds[i,141])-1)/(datasetodds[i,141]-1)\n",
        "  stake2 = 1 - (((1-predictions[i,0])*datasetodds[i,141])-1)/(datasetodds[i,141]-1)\n",
        "  stake4 = 1 - (((1-predictions[i,0])*datasetodds[i,142])-1)/(datasetodds[i,142]-1)\n",
        "  if test_labels[i] == 0:\n",
        "    if predictions[i,0]*datasetodds[i,142] > 1:\n",
        "      bet = bet + stake1\n",
        "    if (1-predictions[i,0])*datasetodds[i,141] >1:\n",
        "      bet = bet + stake2\n",
        "      win = win + (stake2*datasetodds[i,141]) \n",
        "  else:\n",
        "    if predictions[i,0]*datasetodds[i,141] > 1:\n",
        "      win = win + (stake3*datasetodds[i,141])\n",
        "      bet = bet + stake3\n",
        "    if (1-predictions[i,0])*datasetodds[i,142] >1:\n",
        "      bet = bet + stake4\n",
        "      \n",
        "\n",
        "\n",
        "win = win - bet\n",
        "\n",
        "ret = win/bet\n",
        "\n",
        "ret\n"
      ],
      "execution_count": null,
      "outputs": [
        {
          "output_type": "execute_result",
          "data": {
            "text/plain": [
              "-0.037941033965749216"
            ]
          },
          "metadata": {
            "tags": []
          },
          "execution_count": 301
        }
      ]
    },
    {
      "cell_type": "code",
      "metadata": {
        "id": "PQaKk3egjk9X",
        "colab_type": "code",
        "colab": {
          "base_uri": "https://localhost:8080/",
          "height": 229
        },
        "outputId": "51d017a9-d497-4bc9-b493-702b667137dd"
      },
      "source": [
        "# bet if model prob - bookies > .05 & reverse of KC MM \n",
        "\n",
        "bet = 0\n",
        "win = 0\n",
        "\n",
        "for i in range(2282):\n",
        "  if datasetodds[i,142] > 1:\n",
        "    stake1 = 1 - ((predictions[i,0]*datasetodds[i,142])-1)/(datasetodds[i,142]-1)\n",
        "    stake3 = 1 - ((predictions[i,0]*datasetodds[i,141])-1)/(datasetodds[i,141]-1)\n",
        "    stake2 = 1 - (((1-predictions[i,0])*datasetodds[i,141])-1)/(datasetodds[i,141]-1)\n",
        "    stake4 = 1 - (((1-predictions[i,0])*datasetodds[i,142])-1)/(datasetodds[i,142]-1)\n",
        "    if test_labels[i] == 0:\n",
        "      if predictions[i,0] - (1/datasetodds[i,142]) >= 0.05:\n",
        "        bet = bet + stake1\n",
        "      if ((1-predictions[i,0]) - (1/datasetodds[i,141])) >= 0.05:\n",
        "        bet = bet + stake2\n",
        "        win = win + (stake2*datasetodds[i,141]) \n",
        "    else:\n",
        "      if predictions[i,0] - (1/datasetodds[i,141]) >= 0.05:\n",
        "        win = win + (stake3*datasetodds[i,141])\n",
        "        bet = bet + stake3\n",
        "      if ((1-predictions[i,0]) - (1/datasetodds[i,142])) >= 0.05:\n",
        "        bet = bet + stake4\n",
        "        \n",
        "\n",
        "\n",
        "win = win - bet\n",
        "\n",
        "ret = win/bet\n",
        "\n",
        "ret\n"
      ],
      "execution_count": null,
      "outputs": [
        {
          "output_type": "error",
          "ename": "NameError",
          "evalue": "ignored",
          "traceback": [
            "\u001b[0;31m---------------------------------------------------------------------------\u001b[0m",
            "\u001b[0;31mNameError\u001b[0m                                 Traceback (most recent call last)",
            "\u001b[0;32m<ipython-input-1-cbb442480dbb>\u001b[0m in \u001b[0;36m<module>\u001b[0;34m()\u001b[0m\n\u001b[1;32m      5\u001b[0m \u001b[0;34m\u001b[0m\u001b[0m\n\u001b[1;32m      6\u001b[0m \u001b[0;32mfor\u001b[0m \u001b[0mi\u001b[0m \u001b[0;32min\u001b[0m \u001b[0mrange\u001b[0m\u001b[0;34m(\u001b[0m\u001b[0;36m2282\u001b[0m\u001b[0;34m)\u001b[0m\u001b[0;34m:\u001b[0m\u001b[0;34m\u001b[0m\u001b[0;34m\u001b[0m\u001b[0m\n\u001b[0;32m----> 7\u001b[0;31m   \u001b[0;32mif\u001b[0m \u001b[0mdatasetodds\u001b[0m\u001b[0;34m[\u001b[0m\u001b[0mi\u001b[0m\u001b[0;34m,\u001b[0m\u001b[0;36m142\u001b[0m\u001b[0;34m]\u001b[0m \u001b[0;34m>\u001b[0m \u001b[0;36m1\u001b[0m\u001b[0;34m:\u001b[0m\u001b[0;34m\u001b[0m\u001b[0;34m\u001b[0m\u001b[0m\n\u001b[0m\u001b[1;32m      8\u001b[0m     \u001b[0mstake1\u001b[0m \u001b[0;34m=\u001b[0m \u001b[0;36m1\u001b[0m \u001b[0;34m-\u001b[0m \u001b[0;34m(\u001b[0m\u001b[0;34m(\u001b[0m\u001b[0mpredictions\u001b[0m\u001b[0;34m[\u001b[0m\u001b[0mi\u001b[0m\u001b[0;34m,\u001b[0m\u001b[0;36m0\u001b[0m\u001b[0;34m]\u001b[0m\u001b[0;34m*\u001b[0m\u001b[0mdatasetodds\u001b[0m\u001b[0;34m[\u001b[0m\u001b[0mi\u001b[0m\u001b[0;34m,\u001b[0m\u001b[0;36m142\u001b[0m\u001b[0;34m]\u001b[0m\u001b[0;34m)\u001b[0m\u001b[0;34m-\u001b[0m\u001b[0;36m1\u001b[0m\u001b[0;34m)\u001b[0m\u001b[0;34m/\u001b[0m\u001b[0;34m(\u001b[0m\u001b[0mdatasetodds\u001b[0m\u001b[0;34m[\u001b[0m\u001b[0mi\u001b[0m\u001b[0;34m,\u001b[0m\u001b[0;36m142\u001b[0m\u001b[0;34m]\u001b[0m\u001b[0;34m-\u001b[0m\u001b[0;36m1\u001b[0m\u001b[0;34m)\u001b[0m\u001b[0;34m\u001b[0m\u001b[0;34m\u001b[0m\u001b[0m\n\u001b[1;32m      9\u001b[0m     \u001b[0mstake3\u001b[0m \u001b[0;34m=\u001b[0m \u001b[0;36m1\u001b[0m \u001b[0;34m-\u001b[0m \u001b[0;34m(\u001b[0m\u001b[0;34m(\u001b[0m\u001b[0mpredictions\u001b[0m\u001b[0;34m[\u001b[0m\u001b[0mi\u001b[0m\u001b[0;34m,\u001b[0m\u001b[0;36m0\u001b[0m\u001b[0;34m]\u001b[0m\u001b[0;34m*\u001b[0m\u001b[0mdatasetodds\u001b[0m\u001b[0;34m[\u001b[0m\u001b[0mi\u001b[0m\u001b[0;34m,\u001b[0m\u001b[0;36m141\u001b[0m\u001b[0;34m]\u001b[0m\u001b[0;34m)\u001b[0m\u001b[0;34m-\u001b[0m\u001b[0;36m1\u001b[0m\u001b[0;34m)\u001b[0m\u001b[0;34m/\u001b[0m\u001b[0;34m(\u001b[0m\u001b[0mdatasetodds\u001b[0m\u001b[0;34m[\u001b[0m\u001b[0mi\u001b[0m\u001b[0;34m,\u001b[0m\u001b[0;36m141\u001b[0m\u001b[0;34m]\u001b[0m\u001b[0;34m-\u001b[0m\u001b[0;36m1\u001b[0m\u001b[0;34m)\u001b[0m\u001b[0;34m\u001b[0m\u001b[0;34m\u001b[0m\u001b[0m\n",
            "\u001b[0;31mNameError\u001b[0m: name 'datasetodds' is not defined"
          ]
        }
      ]
    }
  ]
}